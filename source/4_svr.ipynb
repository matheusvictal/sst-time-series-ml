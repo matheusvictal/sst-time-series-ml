{
  "cells": [
    {
      "cell_type": "code",
      "execution_count": 1,
      "metadata": {
        "id": "oTSY2Bs2mQJp"
      },
      "outputs": [],
      "source": [
        "%load_ext autoreload\n",
        "%autoreload 2"
      ]
    },
    {
      "cell_type": "code",
      "execution_count": 2,
      "metadata": {
        "id": "hoWgHEngmQJs",
        "outputId": "060a0317-62d1-422f-ea61-6c45b254d44e"
      },
      "outputs": [
        {
          "name": "stdout",
          "output_type": "stream",
          "text": [
            "Importing the dtw module. When using in academic works please cite:\n",
            "  T. Giorgino. Computing and Visualizing Dynamic Time Warping Alignments in R: The dtw Package.\n",
            "  J. Stat. Soft., doi:10.18637/jss.v031.i07.\n",
            "\n"
          ]
        }
      ],
      "source": [
        "import numpy as np\n",
        "import netCDF4 as nc\n",
        "import xarray as xr\n",
        "import numpy as np\n",
        "import netCDF4 as nc\n",
        "from mpl_toolkits.basemap import Basemap\n",
        "from mpl_toolkits.basemap import shiftgrid\n",
        "import matplotlib.pyplot as plt\n",
        "import pandas as pd\n",
        "from dtw import *\n",
        "from tqdm import tqdm\n",
        "from sklearn.preprocessing import MinMaxScaler\n",
        "from sklearn.linear_model import SGDRegressor\n",
        "from netuno import SSTHelper, SubserieDTW\n",
        "from sklearn.multioutput import MultiOutputRegressor"
      ]
    },
    {
      "cell_type": "code",
      "execution_count": 197,
      "metadata": {
        "id": "1dRZYrd-mQJt"
      },
      "outputs": [],
      "source": [
        "f_inv = lambda x: x + 180\n",
        "f = lambda x: ((x+180) % 360) - 180"
      ]
    },
    {
      "cell_type": "code",
      "execution_count": 198,
      "metadata": {
        "id": "l86t0GDQmQJv"
      },
      "outputs": [],
      "source": [
        "fp = '../dados/sst.mnmean.nc'\n",
        "ds = SSTHelper.load_dataset(fp)\n",
        "df = SSTHelper.load_dataframe(ds)"
      ]
    },
    {
      "cell_type": "code",
      "execution_count": 199,
      "metadata": {
        "id": "2VRccB8pmQJw"
      },
      "outputs": [],
      "source": [
        "df['lat'] -= 0.5\n",
        "df['lon'] -= 0.5"
      ]
    },
    {
      "cell_type": "markdown",
      "metadata": {
        "id": "jWw2LvUAmQJz"
      },
      "source": [
        "## Obtendo 5 pontos no mar\n",
        "* Um ponto na região do ENSO;\n",
        " -> lat = 20°, lon = -132° (https://www.google.com.br/maps/place/20%C2%B000'00.0%22N+132%C2%B000'00.0%22W/@22.1775213,-151.1364928,3.87z/data=!4m4!3m3!8m2!3d20!4d-132?entry=ttu)\n",
        "\n",
        "* Um ponto na costa do Chile (Corrente de Humboldt);\n",
        " -> lat = -22°, lon = -72° (https://www.google.com.br/maps/place/22%C2%B000'00.0%22S+72%C2%B000'00.0%22W/@-21.7898533,-87.474343,4.04z/data=!4m4!3m3!8m2!3d-22!4d-72?entry=ttu)\n",
        "\n",
        "* Um ponto no meio do Mediterrâneo;\n",
        " -> lat = 36°, lon = 18° (https://www.google.com.br/maps/place/36%C2%B000'00.0%22N+18%C2%B000'00.0%22E/@36.0000043,17.9974251,17z/data=!3m1!4b1!4m4!3m3!8m2!3d36!4d18?entry=ttu)\n",
        "\n",
        "* Um ponto no meio do Atlântico;\n",
        " -> lat = 0°, lon = -22° (https://www.google.com.br/maps/place/0%C2%B000'00.0%22N+22%C2%B000'00.0%22W/@-11.0144452,-50.6148726,3z/data=!4m3!3m2!8m1!4d-22?entry=ttu)\n",
        "\n",
        "* Um ponto no extremo Índico (ponto de maior latitude, temperaturas mais baixas)\n",
        " -> lat = -56°, lon = 80° (https://www.google.com.br/maps/place/56%C2%B000'00.0%22S+80%C2%B000'00.0%22E/@-36.027701,54.6888129,3z/data=!4m4!3m3!8m2!3d-56!4d80?entry=ttu)"
      ]
    },
    {
      "cell_type": "code",
      "execution_count": 99,
      "metadata": {
        "id": "Uxl8BYGDmQJ0"
      },
      "outputs": [],
      "source": [
        "split_date = '2010-12-01'\n",
        "\n",
        "chil = SubserieDTW(df, -22, -72, split_date, forecast_horizon=12)\n",
        "medi = SubserieDTW(df, 36, 18, split_date, forecast_horizon=12)\n",
        "atla = SubserieDTW(df, 0, -2, split_date, forecast_horizon=12)\n",
        "enso = SubserieDTW(df, 20, -132, split_date, forecast_horizon=12)\n",
        "\n",
        "indi = SubserieDTW(df, -56, 80, split_date, forecast_horizon=12)"
      ]
    },
    {
      "cell_type": "markdown",
      "metadata": {
        "id": "xVp5DfGGmQJ1"
      },
      "source": [
        "### DS (Dynamic time warping + Support vector regression)\n",
        "Implementando a técnica de forecasting apresentada pelo artigo [Improved Particle Swarm Optimization for Sea Surface Temperature Prediction](https://www.mdpi.com/1996-1073/13/6/1369) nomeada DS. Nesse algoritmo, para prever as próximas $x$ observações pegamos a janela referente as últimas observações que possuímos e procuramos subséries anteriores de mesmo tamanho utilizando DTW. Então, utilizamos as subséries mais próximas e as respectivas próximas $x$ observações encontradas para treinar um SVR."
      ]
    },
    {
      "cell_type": "markdown",
      "metadata": {
        "id": "XMVFrCtWmQJ3"
      },
      "source": [
        "### Queremos predizer a série em '?'\n",
        "![img1](../resources/img1.png)\n",
        "### Pegamos a janela mais próxima de tamanho $n$ e comparamos com a série em azul\n",
        "![img2](../resources/img2.png)\n",
        "### Pegamos as subséries mais próximas (x) e as observações seguintes (y)\n",
        "![img3](../resources/img3.png)\n",
        "### Treinamos um modelo regressor (SVR) para predizer os próximos valores utilizando x,y\n",
        "![img4](../resources/img4.png)"
      ]
    },
    {
      "cell_type": "code",
      "execution_count": 7,
      "metadata": {
        "id": "2xyyLra0mQJ4"
      },
      "outputs": [],
      "source": [
        "from netuno import DSPipeline"
      ]
    },
    {
      "cell_type": "code",
      "execution_count": 8,
      "metadata": {
        "id": "54qv8fKjmQJ5",
        "outputId": "55c6f7e5-23fb-4acb-adcb-b566bc9e7473"
      },
      "outputs": [
        {
          "data": {
            "text/html": [
              "<div>\n",
              "<style scoped>\n",
              "    .dataframe tbody tr th:only-of-type {\n",
              "        vertical-align: middle;\n",
              "    }\n",
              "\n",
              "    .dataframe tbody tr th {\n",
              "        vertical-align: top;\n",
              "    }\n",
              "\n",
              "    .dataframe thead th {\n",
              "        text-align: right;\n",
              "    }\n",
              "</style>\n",
              "<table border=\"1\" class=\"dataframe\">\n",
              "  <thead>\n",
              "    <tr style=\"text-align: right;\">\n",
              "      <th></th>\n",
              "      <th>lat</th>\n",
              "      <th>lon</th>\n",
              "      <th>time</th>\n",
              "      <th>nbnds</th>\n",
              "      <th>sst</th>\n",
              "      <th>time_bnds</th>\n",
              "    </tr>\n",
              "  </thead>\n",
              "  <tbody>\n",
              "    <tr>\n",
              "      <th>0</th>\n",
              "      <td>89.0</td>\n",
              "      <td>0.0</td>\n",
              "      <td>1981-12-01</td>\n",
              "      <td>0</td>\n",
              "      <td>-1.79</td>\n",
              "      <td>1981-12-01</td>\n",
              "    </tr>\n",
              "    <tr>\n",
              "      <th>2</th>\n",
              "      <td>89.0</td>\n",
              "      <td>0.0</td>\n",
              "      <td>1982-01-01</td>\n",
              "      <td>0</td>\n",
              "      <td>-1.79</td>\n",
              "      <td>1982-01-01</td>\n",
              "    </tr>\n",
              "    <tr>\n",
              "      <th>4</th>\n",
              "      <td>89.0</td>\n",
              "      <td>0.0</td>\n",
              "      <td>1982-02-01</td>\n",
              "      <td>0</td>\n",
              "      <td>-1.79</td>\n",
              "      <td>1982-02-01</td>\n",
              "    </tr>\n",
              "    <tr>\n",
              "      <th>6</th>\n",
              "      <td>89.0</td>\n",
              "      <td>0.0</td>\n",
              "      <td>1982-03-01</td>\n",
              "      <td>0</td>\n",
              "      <td>-1.79</td>\n",
              "      <td>1982-03-01</td>\n",
              "    </tr>\n",
              "    <tr>\n",
              "      <th>8</th>\n",
              "      <td>89.0</td>\n",
              "      <td>0.0</td>\n",
              "      <td>1982-04-01</td>\n",
              "      <td>0</td>\n",
              "      <td>-1.79</td>\n",
              "      <td>1982-04-01</td>\n",
              "    </tr>\n",
              "    <tr>\n",
              "      <th>...</th>\n",
              "      <td>...</td>\n",
              "      <td>...</td>\n",
              "      <td>...</td>\n",
              "      <td>...</td>\n",
              "      <td>...</td>\n",
              "      <td>...</td>\n",
              "    </tr>\n",
              "    <tr>\n",
              "      <th>64022390</th>\n",
              "      <td>-90.0</td>\n",
              "      <td>-1.0</td>\n",
              "      <td>2022-09-01</td>\n",
              "      <td>0</td>\n",
              "      <td>-1.79</td>\n",
              "      <td>2022-09-01</td>\n",
              "    </tr>\n",
              "    <tr>\n",
              "      <th>64022392</th>\n",
              "      <td>-90.0</td>\n",
              "      <td>-1.0</td>\n",
              "      <td>2022-10-01</td>\n",
              "      <td>0</td>\n",
              "      <td>-1.79</td>\n",
              "      <td>2022-10-01</td>\n",
              "    </tr>\n",
              "    <tr>\n",
              "      <th>64022394</th>\n",
              "      <td>-90.0</td>\n",
              "      <td>-1.0</td>\n",
              "      <td>2022-11-01</td>\n",
              "      <td>0</td>\n",
              "      <td>-1.79</td>\n",
              "      <td>2022-11-01</td>\n",
              "    </tr>\n",
              "    <tr>\n",
              "      <th>64022396</th>\n",
              "      <td>-90.0</td>\n",
              "      <td>-1.0</td>\n",
              "      <td>2022-12-01</td>\n",
              "      <td>0</td>\n",
              "      <td>-1.79</td>\n",
              "      <td>2022-12-01</td>\n",
              "    </tr>\n",
              "    <tr>\n",
              "      <th>64022398</th>\n",
              "      <td>-90.0</td>\n",
              "      <td>-1.0</td>\n",
              "      <td>2023-01-01</td>\n",
              "      <td>0</td>\n",
              "      <td>-1.79</td>\n",
              "      <td>2023-01-01</td>\n",
              "    </tr>\n",
              "  </tbody>\n",
              "</table>\n",
              "<p>32011200 rows × 6 columns</p>\n",
              "</div>"
            ],
            "text/plain": [
              "           lat  lon       time  nbnds   sst  time_bnds\n",
              "0         89.0  0.0 1981-12-01      0 -1.79 1981-12-01\n",
              "2         89.0  0.0 1982-01-01      0 -1.79 1982-01-01\n",
              "4         89.0  0.0 1982-02-01      0 -1.79 1982-02-01\n",
              "6         89.0  0.0 1982-03-01      0 -1.79 1982-03-01\n",
              "8         89.0  0.0 1982-04-01      0 -1.79 1982-04-01\n",
              "...        ...  ...        ...    ...   ...        ...\n",
              "64022390 -90.0 -1.0 2022-09-01      0 -1.79 2022-09-01\n",
              "64022392 -90.0 -1.0 2022-10-01      0 -1.79 2022-10-01\n",
              "64022394 -90.0 -1.0 2022-11-01      0 -1.79 2022-11-01\n",
              "64022396 -90.0 -1.0 2022-12-01      0 -1.79 2022-12-01\n",
              "64022398 -90.0 -1.0 2023-01-01      0 -1.79 2023-01-01\n",
              "\n",
              "[32011200 rows x 6 columns]"
            ]
          },
          "execution_count": 8,
          "metadata": {},
          "output_type": "execute_result"
        }
      ],
      "source": [
        "df"
      ]
    },
    {
      "cell_type": "markdown",
      "metadata": {
        "id": "-e-eADStmQJ7"
      },
      "source": [
        "### Indian Ocean"
      ]
    },
    {
      "cell_type": "code",
      "execution_count": 9,
      "metadata": {
        "id": "6tFB2kcdmQJ7",
        "outputId": "fcce12ba-ad41-4efa-9ccf-93fce4c0fc77"
      },
      "outputs": [
        {
          "name": "stdout",
          "output_type": "stream",
          "text": [
            "RMSE:  [[ 0.60460551  1.53007437  2.09960359 ... -0.45910718 -0.66192353\n",
            "  -0.18431916]\n",
            " [ 1.52971884  2.09984477  2.02848101 ... -0.76265677 -0.29347729\n",
            "   0.69329528]\n",
            " [ 2.14676007  2.01549118  1.55962444 ... -0.2720655   0.66368483\n",
            "   1.73323373]\n",
            " ...\n",
            " [ 0.94671494  1.64082519  1.99790366 ... -0.89036028 -0.68130223\n",
            "   0.08790338]\n",
            " [ 1.54824315  1.91898292  1.68481951 ... -0.76273303 -0.03679543\n",
            "   0.87408954]\n",
            " [ 1.90512242  1.67770693  1.12109948 ... -0.05491239  0.86271165\n",
            "   1.76230296]]\n"
          ]
        },
        {
          "ename": "AttributeError",
          "evalue": "'DSPipeline' object has no attribute 'y_test_pred'",
          "output_type": "error",
          "traceback": [
            "\u001b[0;31m---------------------------------------------------------------------------\u001b[0m",
            "\u001b[0;31mAttributeError\u001b[0m                            Traceback (most recent call last)",
            "Cell \u001b[0;32mIn[9], line 3\u001b[0m\n\u001b[1;32m      1\u001b[0m indi_pipeline \u001b[38;5;241m=\u001b[39m DSPipeline(df, \u001b[38;5;241m-\u001b[39m\u001b[38;5;241m56\u001b[39m, \u001b[38;5;241m80\u001b[39m, split_date, forecast_horizon\u001b[38;5;241m=\u001b[39m\u001b[38;5;241m12\u001b[39m)\n\u001b[1;32m      2\u001b[0m \u001b[38;5;28mprint\u001b[39m(\u001b[38;5;124m\"\u001b[39m\u001b[38;5;124mRMSE: \u001b[39m\u001b[38;5;124m\"\u001b[39m, indi_pipeline\u001b[38;5;241m.\u001b[39mmake_pipeline(series_sample_ratio\u001b[38;5;241m=\u001b[39m\u001b[38;5;241m1\u001b[39m, top_subseries_ratio\u001b[38;5;241m=\u001b[39m\u001b[38;5;241m0.3\u001b[39m))\n\u001b[0;32m----> 3\u001b[0m \u001b[38;5;28mprint\u001b[39m(\u001b[38;5;124m\"\u001b[39m\u001b[38;5;124mMAPE: \u001b[39m\u001b[38;5;124m\"\u001b[39m, \u001b[43mindi_pipeline\u001b[49m\u001b[38;5;241;43m.\u001b[39;49m\u001b[43mevaluate_mape\u001b[49m\u001b[43m(\u001b[49m\u001b[43m)\u001b[49m)\n\u001b[1;32m      4\u001b[0m indi_pipeline\u001b[38;5;241m.\u001b[39mplot_predict(\u001b[38;5;124m'\u001b[39m\u001b[38;5;124mÍNDICO - SVR\u001b[39m\u001b[38;5;124m'\u001b[39m, \u001b[38;5;124m'\u001b[39m\u001b[38;5;124mSVR\u001b[39m\u001b[38;5;124m'\u001b[39m)\n",
            "File \u001b[0;32m~/Documents/sst-time-series-ml/source/netuno/ds_pipeline.py:95\u001b[0m, in \u001b[0;36mDSPipeline.evaluate_mape\u001b[0;34m(self)\u001b[0m\n\u001b[1;32m     94\u001b[0m \u001b[38;5;28;01mdef\u001b[39;00m \u001b[38;5;21mevaluate_mape\u001b[39m(\u001b[38;5;28mself\u001b[39m):\n\u001b[0;32m---> 95\u001b[0m     mape \u001b[38;5;241m=\u001b[39m SSTHelper\u001b[38;5;241m.\u001b[39mmape(\u001b[38;5;28mself\u001b[39m\u001b[38;5;241m.\u001b[39my_test, \u001b[38;5;28;43mself\u001b[39;49m\u001b[38;5;241;43m.\u001b[39;49m\u001b[43my_test_pred\u001b[49m)\n\u001b[1;32m     96\u001b[0m     \u001b[38;5;28;01mreturn\u001b[39;00m mape\n",
            "\u001b[0;31mAttributeError\u001b[0m: 'DSPipeline' object has no attribute 'y_test_pred'"
          ]
        }
      ],
      "source": [
        "indi_pipeline = DSPipeline(df, -56, 80, split_date, forecast_horizon=12)\n",
        "print(\"RMSE: \", indi_pipeline.make_pipeline(series_sample_ratio=1, top_subseries_ratio=0.3))\n",
        "print(\"MAPE: \", indi_pipeline.evaluate_mape())\n",
        "indi_pipeline.plot_predict('ÍNDICO - SVR', 'SVR')"
      ]
    },
    {
      "cell_type": "markdown",
      "metadata": {
        "id": "yXP6IXZJmQJ8"
      },
      "source": [
        "### ENSO"
      ]
    },
    {
      "cell_type": "code",
      "execution_count": null,
      "metadata": {
        "id": "7gNk6_oPmQJ8",
        "outputId": "324584f7-caaf-49c9-f10e-5f472b7194d1"
      },
      "outputs": [
        {
          "name": "stdout",
          "output_type": "stream",
          "text": [
            "[[22.76     22.6      22.609999 ... 23.49     23.66     23.65    ]\n",
            " [22.6      22.609999 22.57     ... 23.66     23.65     23.039999]\n",
            " [22.609999 22.57     22.55     ... 23.65     23.039999 21.96    ]\n",
            " ...\n",
            " [23.82     24.869999 25.35     ... 23.43     22.949999 23.26    ]\n",
            " [24.869999 25.35     25.359999 ... 22.949999 23.26     24.08    ]\n",
            " [25.35     25.359999 24.14     ... 23.26     24.08     24.269999]]\n",
            "RMSE:  0.6916603413867086\n",
            "MAPE:  0.023000001873888207\n"
          ]
        },
        {
          "data": {
            "image/png": "[encoded data removed]",
            "text/plain": [
              "<Figure size 1500x250 with 1 Axes>"
            ]
          },
          "metadata": {},
          "output_type": "display_data"
        }
      ],
      "source": [
        "indi_pipeline = DSPipeline(df, 20, -132, split_date, forecast_horizon=12)\n",
        "print(\"RMSE: \", indi_pipeline.make_pipeline(1.0, 0.3))\n",
        "print(\"MAPE: \", indi_pipeline.evaluate_mape())\n",
        "\n",
        "indi_pipeline.plot_predict('ENSO Region - SVR', 'SVR')"
      ]
    },
    {
      "cell_type": "markdown",
      "metadata": {
        "id": "9dkbornqmQJ9"
      },
      "source": [
        "### Mediterranean"
      ]
    },
    {
      "cell_type": "code",
      "execution_count": null,
      "metadata": {
        "id": "rECSPIrYmQJ9",
        "outputId": "2d88bf9c-7273-444c-df50-eeb20dc215b9"
      },
      "outputs": [
        {
          "name": "stdout",
          "output_type": "stream",
          "text": [
            "           lat  lon       time  nbnds   sst  time_bnds\n",
            "0         89.0  0.0 1981-12-01      0 -1.79 1981-12-01\n",
            "2         89.0  0.0 1982-01-01      0 -1.79 1982-01-01\n",
            "4         89.0  0.0 1982-02-01      0 -1.79 1982-02-01\n",
            "6         89.0  0.0 1982-03-01      0 -1.79 1982-03-01\n",
            "8         89.0  0.0 1982-04-01      0 -1.79 1982-04-01\n",
            "...        ...  ...        ...    ...   ...        ...\n",
            "64022390 -90.0 -1.0 2022-09-01      0 -1.79 2022-09-01\n",
            "64022392 -90.0 -1.0 2022-10-01      0 -1.79 2022-10-01\n",
            "64022394 -90.0 -1.0 2022-11-01      0 -1.79 2022-11-01\n",
            "64022396 -90.0 -1.0 2022-12-01      0 -1.79 2022-12-01\n",
            "64022398 -90.0 -1.0 2023-01-01      0 -1.79 2023-01-01\n",
            "\n",
            "[32011200 rows x 6 columns]\n",
            "Initializing\n",
            "Lat: 36, Lon: 18\n",
            "[16.609999  15.66      14.83      14.83      16.16      18.57\n",
            " 23.17      25.56      26.47      25.71      23.89      20.43\n",
            " 17.71      16.        14.96      14.839999  15.92      19.23\n",
            " 21.56      24.96      26.099998  24.64      22.5       19.92\n",
            " 17.09      15.62      14.889999  14.889999  15.69      18.13\n",
            " 20.949999  23.88      25.4       24.539999  22.869999  20.6\n",
            " 17.84      15.83      15.23      15.08      16.25      18.84\n",
            " 23.3       25.15      26.34      25.06      22.81      20.42\n",
            " 18.119999  16.35      15.23      15.28      16.31      19.369999\n",
            " 22.89      25.1       26.96      26.        23.66      20.279999\n",
            " 17.69      15.57      14.96      14.5199995 15.96      17.38\n",
            " 21.72      25.33      26.72      26.23      24.019999  20.63\n",
            " 17.76      16.08      15.49      15.        16.4       19.14\n",
            " 22.17      25.99      27.38      25.31      23.38      19.68\n",
            " 16.98      15.469999  14.88      15.349999  16.47      18.119999\n",
            " 20.96      24.869999  26.18      25.42      22.        19.82\n",
            " 17.789999  16.38      15.95      16.14      16.88      19.25\n",
            " 22.06      25.189999  26.269999  25.14      23.85      21.539999\n",
            " 18.06      16.4       15.5199995 15.91      16.67      17.619999\n",
            " 20.869999  24.18      26.08      25.269999  23.359999  20.449999\n",
            " 17.18      15.41      14.61      14.759999  15.839999  18.23\n",
            " 21.38      24.449999  26.869999  25.66      23.41      20.98\n",
            " 17.68      15.349999  14.7       14.45      15.639999  19.\n",
            " 23.26      24.949999  26.56      25.81      23.51      21.26\n",
            " 18.289999  16.57      15.5       15.7       16.24      18.88\n",
            " 22.1       25.84      27.73      26.68      24.189999  20.85\n",
            " 18.05      16.17      16.06      15.99      16.06      18.15\n",
            " 22.38      25.689999  27.3       25.21      22.43      19.3\n",
            " 17.25      16.039999  15.45      15.009999  16.06      18.51\n",
            " 22.18      24.189999  26.42      25.07      21.5       19.07\n",
            " 17.26      16.25      15.46      15.46      15.62      18.75\n",
            " 22.98      24.859999  26.        25.289999  23.1       19.609999\n",
            " 17.08      15.86      15.13      14.94      16.17      18.43\n",
            " 23.09      25.32      27.529999  25.72      22.779999  20.17\n",
            " 16.65      15.049999  14.33      14.66      15.9       19.619999\n",
            " 23.98      25.289999  27.369999  26.58      24.47      21.63\n",
            " 17.69      15.53      15.        14.86      16.46      20.15\n",
            " 23.74      25.57      26.539999  25.84      23.17      21.27\n",
            " 18.43      16.8       15.839999  16.58      17.05      19.029999\n",
            " 22.57      25.64      27.019999  26.22      24.619999  21.029999\n",
            " 17.35      15.48      15.389999  15.66      16.63      19.27\n",
            " 22.98      26.46      26.449999  25.76      23.269999  20.34\n",
            " 17.56      16.1       14.88      14.87      15.95      20.699999\n",
            " 24.99      27.49      28.3       26.26      24.289999  21.42\n",
            " 18.449999  16.359999  15.349999  15.259999  16.35      18.38\n",
            " 22.13      26.01      26.46      25.48      23.73      21.199999\n",
            " 18.22      16.369999  15.139999  15.259999  16.26      19.289999\n",
            " 22.73      25.65      26.42      25.91      23.39      20.77\n",
            " 17.74      15.66      15.0199995 14.95      16.55      19.9\n",
            " 23.16      26.92      27.599998  25.76      23.38      19.779999\n",
            " 17.65      16.38      15.65      16.15      17.029999  20.13\n",
            " 23.13      26.06      26.84      25.55      23.15      19.9\n",
            " 17.13      15.5199995 15.23      15.83      16.529999  18.859999\n",
            " 23.        25.71      26.09      25.55      22.88      21.09\n",
            " 17.859999  16.17      15.509999  14.88      16.05      19.449999\n",
            " 23.26      25.13      26.72      25.609999  23.14      20.13\n",
            " 17.75      15.98      14.679999  15.309999  16.8       19.51\n",
            " 22.49      25.24      26.21      25.38      23.47      20.689999\n",
            " 17.93      16.18      15.46      15.599999  16.75      19.05\n",
            " 22.82      25.97      26.99      27.01      23.23      20.529999\n",
            " 18.3       16.19      15.639999  15.719999  16.74      19.72\n",
            " 23.58      27.199999  27.81      26.73      25.05      22.25\n",
            " 18.279999  16.199999  15.5       15.44      17.        19.859999\n",
            " 22.21      25.279999  27.16      26.269999  24.21      21.6\n",
            " 18.18      16.59      16.06      16.039999  16.91      19.039999\n",
            " 22.439999  25.56      26.939999  26.55      24.41      21.13\n",
            " 19.13      16.84      15.589999  15.549999  16.699999  19.98\n",
            " 23.46      26.65      28.24      27.189999  24.529999  21.279999\n",
            " 18.68      17.029999  16.039999  16.16      17.5       19.25\n",
            " 23.109999  26.019999  26.65      25.92      24.07      20.98\n",
            " 18.3       16.3       15.639999  16.        17.199999  19.359999\n",
            " 23.439999  26.18      27.23      26.13      23.35      20.38\n",
            " 17.6       16.119999  15.65      15.599999  17.35      20.3\n",
            " 23.97      25.5       27.4       26.599998  23.43      21.32\n",
            " 18.43      16.19      15.46      15.73      16.41      18.1\n",
            " 22.96      26.08      26.96      26.91      24.51      21.91\n",
            " 18.4       16.21      15.839999  15.66      16.699999  19.51\n",
            " 22.34      25.75      27.439999  26.41      24.08      21.46\n",
            " 18.51      17.08      16.42      16.17      16.289999  19.5\n",
            " 23.25      26.609999  27.89      26.289999  23.97      20.66\n",
            " 17.56      16.22      15.45      15.049999  16.19      19.59\n",
            " 24.51      27.25      28.019999  26.609999  23.89      21.63\n",
            " 18.539999  17.359999 ]\n",
            "Total length: 494\n",
            "385 13\n",
            "Train/test proportion: 0.7793522267206477/0.02631578947368421\n",
            "Obtained 193 subseries\n",
            "[[16.609999 15.66     14.83     ... 25.42     22.       19.82    ]\n",
            " [15.66     14.83     14.83     ... 22.       19.82     17.789999]\n",
            " [14.83     14.83     16.16     ... 19.82     17.789999 16.38    ]\n",
            " ...\n",
            " [25.1      26.96     26.       ... 16.24     18.88     22.1     ]\n",
            " [26.96     26.       23.66     ... 18.88     22.1      25.84    ]\n",
            " [26.       23.66     20.279999 ... 22.1      25.84     27.73    ]]\n",
            "RMSE:  1.3776064139929594\n",
            "MAPE:  0.04803378195720842\n"
          ]
        },
        {
          "data": {
            "image/png": "[encoded data removed]",
            "text/plain": [
              "<Figure size 1500x250 with 1 Axes>"
            ]
          },
          "metadata": {},
          "output_type": "display_data"
        }
      ],
      "source": [
        "indi_pipeline = DSPipeline(df, 36, 18, split_date, forecast_horizon=12)\n",
        "print(\"RMSE: \", indi_pipeline.make_pipeline(1.0, 0.3))\n",
        "print(\"MAPE: \", indi_pipeline.evaluate_mape())\n",
        "indi_pipeline.plot_predict('MEDITERRÂNEO - SVR', 'SVR')"
      ]
    },
    {
      "cell_type": "markdown",
      "metadata": {
        "id": "D82HBrwqmQJ-"
      },
      "source": [
        "### Atlantic Ocean"
      ]
    },
    {
      "cell_type": "code",
      "execution_count": null,
      "metadata": {
        "id": "gXEnCUFAmQJ-",
        "outputId": "7fb4904f-1a19-4b2a-b675-539b55882c4b"
      },
      "outputs": [
        {
          "name": "stdout",
          "output_type": "stream",
          "text": [
            "RMSE:  0.5347251466778309\n",
            "MAPE:  0.015623326656531758\n"
          ]
        },
        {
          "data": {
            "image/png": "[encoded data removed]",
            "text/plain": [
              "<Figure size 1500x250 with 1 Axes>"
            ]
          },
          "metadata": {},
          "output_type": "display_data"
        }
      ],
      "source": [
        "indi_pipeline = DSPipeline(df, 0, -22, split_date, forecast_horizon=12)\n",
        "print(\"RMSE: \", indi_pipeline.make_pipeline(1.0, 0.3))\n",
        "print(\"MAPE: \", indi_pipeline.evaluate_mape())\n",
        "indi_pipeline.plot_predict('ATLÂNTICO - SVR', 'SVR')"
      ]
    },
    {
      "cell_type": "markdown",
      "metadata": {
        "id": "gtc5EuoDmQJ-"
      },
      "source": [
        "### Humboldt"
      ]
    },
    {
      "cell_type": "code",
      "execution_count": null,
      "metadata": {
        "id": "3pcmEUctmQJ_",
        "outputId": "b5d6da98-d957-40c1-aa2f-6840fd64643d"
      },
      "outputs": [
        {
          "name": "stdout",
          "output_type": "stream",
          "text": [
            "Initializing\n",
            "Lat: -22, Lon: -72\n",
            "[0.63670594 0.62641585 0.73441344 ... 0.32512861 0.33221498 0.35176736]\n",
            "[ 0.27341187  0.2528317   0.4688269  ... -0.34974277 -0.33557004\n",
            " -0.29646528]\n",
            "Total length: 2038\n",
            "1920 22\n",
            "Train/test proportion: 0.9421000981354269/0.010794896957801767\n"
          ]
        },
        {
          "name": "stderr",
          "output_type": "stream",
          "text": [
            "100%|██████████| 1728/1728 [00:02<00:00, 594.46it/s]\n"
          ]
        },
        {
          "name": "stdout",
          "output_type": "stream",
          "text": [
            "Obtained 1728 subseries\n",
            "RMSE:  0.5206175016250814\n",
            "MAPE:  0.02494474973382749\n"
          ]
        },
        {
          "data": {
            "image/png": "[encoded data removed]",
            "text/plain": [
              "<Figure size 1500x250 with 1 Axes>"
            ]
          },
          "metadata": {},
          "output_type": "display_data"
        }
      ],
      "source": [
        "indi_pipeline = DSPipeline(df, -22, -72, split_date, forecast_horizon=12)\n",
        "print(\"RMSE: \", indi_pipeline.make_pipeline(1.0, 0.3))\n",
        "print(\"MAPE: \", indi_pipeline.evaluate_mape())\n",
        "indi_pipeline.plot_predict('CHILE - SVR', 'SVR')"
      ]
    },
    {
      "cell_type": "code",
      "execution_count": null,
      "metadata": {
        "id": "YCBYG2MimQJ_",
        "outputId": "bed3e56a-67ef-4f6a-b1cc-4e82ae90aeb9"
      },
      "outputs": [
        {
          "name": "stdout",
          "output_type": "stream",
          "text": [
            "Initializing\n",
            "Lat: -56, Lon: 80\n",
            "[0.67455363 0.79580027 0.80168074 ... 0.36432543 0.30134213 0.32530108]\n",
            "[ 0.34910727  0.59160054  0.6033615  ... -0.27134913 -0.39731574\n",
            " -0.34939784]\n",
            "Total length: 2038\n",
            "1921 21\n",
            "Train/test proportion: 0.9425907752698724/0.010304219823356232\n"
          ]
        },
        {
          "name": "stderr",
          "output_type": "stream",
          "text": [
            "  0%|          | 0/1729 [00:00<?, ?it/s]100%|██████████| 1729/1729 [00:04<00:00, 369.58it/s]\n"
          ]
        },
        {
          "name": "stdout",
          "output_type": "stream",
          "text": [
            "Obtained 1729 subseries\n",
            "RMSE:  0.2374193772612375\n",
            "Initializing\n",
            "Lat: 36, Lon: 18\n",
            "[0.22251053 0.19118312 0.1807629  ... 0.8891512  0.8264598  0.74953777]\n",
            "[-0.55497897 -0.61763376 -0.6384742  ...  0.77830243  0.65291965\n",
            "  0.49907553]\n",
            "Total length: 2038\n",
            "1921 21\n",
            "Train/test proportion: 0.9425907752698724/0.010304219823356232\n"
          ]
        },
        {
          "name": "stderr",
          "output_type": "stream",
          "text": [
            "100%|██████████| 1729/1729 [00:04<00:00, 398.99it/s]\n"
          ]
        },
        {
          "name": "stdout",
          "output_type": "stream",
          "text": [
            "Obtained 1729 subseries\n",
            "RMSE:  1.3170178034657616\n",
            "Initializing\n",
            "Lat: 0, Lon: -2\n",
            "[0.52938354 0.5255629  0.75756633 ... 0.40840217 0.48857298 0.575799  ]\n",
            "[ 0.05876708  0.05112576  0.51513267 ... -0.18319565 -0.02285403\n",
            "  0.15159798]\n",
            "Total length: 2038\n",
            "1921 21\n",
            "Train/test proportion: 0.9425907752698724/0.010304219823356232\n"
          ]
        },
        {
          "name": "stderr",
          "output_type": "stream",
          "text": [
            "100%|██████████| 1729/1729 [00:04<00:00, 374.05it/s]"
          ]
        },
        {
          "name": "stdout",
          "output_type": "stream",
          "text": [
            "Obtained 1729 subseries\n",
            "RMSE:  0.38402854640960427\n"
          ]
        },
        {
          "name": "stderr",
          "output_type": "stream",
          "text": [
            "\n"
          ]
        }
      ],
      "source": [
        "pipeline1 = DSPipeline(df, -56, 80, split_date, forecast_horizon=12)\n",
        "print(\"RMSE: \", pipeline1.make_pipeline(1.0, 0.01))\n",
        "\n",
        "pipeline2 = DSPipeline(df, 36, 18, split_date, forecast_horizon=12)\n",
        "print(\"RMSE: \", pipeline2.make_pipeline(1.0, 0.01))\n",
        "\n",
        "pipeline3 = DSPipeline(df, 0, -2, split_date, forecast_horizon=12)\n",
        "print(\"RMSE: \", pipeline3.make_pipeline(1.0, 0.01))\n"
      ]
    },
    {
      "cell_type": "code",
      "execution_count": null,
      "metadata": {
        "id": "mS780I5AmQJ_",
        "outputId": "46e3ef24-78fc-43ee-a84d-95550d701a56"
      },
      "outputs": [
        {
          "data": {
            "image/png": "[encoded data removed]",
            "text/plain": [
              "<Figure size 1500x250 with 1 Axes>"
            ]
          },
          "metadata": {},
          "output_type": "display_data"
        }
      ],
      "source": [
        "pipeline1.plot_predict()"
      ]
    },
    {
      "cell_type": "code",
      "execution_count": null,
      "metadata": {
        "id": "GTfcPw7fmQKA",
        "outputId": "e2e87182-b157-46eb-e0ab-1c16df2a6ccc"
      },
      "outputs": [
        {
          "data": {
            "image/png": "[encoded data removed]",
            "text/plain": [
              "<Figure size 1500x250 with 1 Axes>"
            ]
          },
          "metadata": {},
          "output_type": "display_data"
        }
      ],
      "source": [
        "pipeline2.plot_predict()"
      ]
    },
    {
      "cell_type": "code",
      "execution_count": null,
      "metadata": {
        "id": "ddPRdhFmmQKA",
        "outputId": "9660ea7b-9789-4a3c-b48a-5069b945dca2"
      },
      "outputs": [
        {
          "data": {
            "image/png": "[encoded data removed]",
            "text/plain": [
              "<Figure size 1500x250 with 1 Axes>"
            ]
          },
          "metadata": {},
          "output_type": "display_data"
        }
      ],
      "source": [
        "pipeline3.plot_predict()"
      ]
    },
    {
      "cell_type": "markdown",
      "metadata": {
        "id": "ok4ZZrsrmQKB"
      },
      "source": [
        "## Teste Expandido\n",
        "Nessa seçao iremos expandir a quantidade de testes, executando o SARIMA para cerca de 100 séries temporais"
      ]
    },
    {
      "cell_type": "markdown",
      "metadata": {
        "id": "JrLKk8J4mQKB"
      },
      "source": [
        "#### Lendo os pontos pré-definidos"
      ]
    },
    {
      "cell_type": "code",
      "execution_count": 13,
      "metadata": {
        "id": "yPfhvzgVmQKB"
      },
      "outputs": [],
      "source": [
        "def read_list_points(filename):\n",
        "    list_points = []\n",
        "    with open(filename, 'r') as file:\n",
        "        for line in file:\n",
        "            line_split = line.split(',')\n",
        "            try:\n",
        "                list_points.append((int(line_split[1]), int(line_split[2])))\n",
        "            except ValueError:\n",
        "                pass\n",
        "    return list_points"
      ]
    },
    {
      "cell_type": "code",
      "execution_count": 14,
      "metadata": {
        "id": "bdQdKEhwmQKC"
      },
      "outputs": [],
      "source": [
        "list_points = read_list_points('../dados/pontos.csv')"
      ]
    },
    {
      "cell_type": "markdown",
      "metadata": {
        "id": "-CBK4TeFmQKC"
      },
      "source": [
        "#### Rodando o SVR e calculando o erro"
      ]
    },
    {
      "cell_type": "code",
      "execution_count": 15,
      "metadata": {
        "id": "7kK4ElIMmQKC"
      },
      "outputs": [],
      "source": [
        "from netuno import DSPipeline"
      ]
    },
    {
      "cell_type": "code",
      "execution_count": 16,
      "metadata": {
        "id": "oDqyGld3mQKD",
        "outputId": "c2597c20-9c78-4c09-bb8e-36814673c32c"
      },
      "outputs": [
        {
          "name": "stderr",
          "output_type": "stream",
          "text": [
            "  0%|          | 0/100 [00:00<?, ?it/s]"
          ]
        },
        {
          "name": "stderr",
          "output_type": "stream",
          "text": [
            "  1%|          | 1/100 [00:00<00:27,  3.59it/s]"
          ]
        },
        {
          "name": "stdout",
          "output_type": "stream",
          "text": [
            "lat: -50; lon:84\n"
          ]
        },
        {
          "name": "stderr",
          "output_type": "stream",
          "text": [
            "  3%|▎         | 3/100 [00:00<00:22,  4.31it/s]"
          ]
        },
        {
          "name": "stdout",
          "output_type": "stream",
          "text": [
            "lat: 30; lon:174\n",
            "lat: 88; lon:8\n"
          ]
        },
        {
          "name": "stderr",
          "output_type": "stream",
          "text": [
            "  4%|▍         | 4/100 [00:00<00:21,  4.43it/s]"
          ]
        },
        {
          "name": "stdout",
          "output_type": "stream",
          "text": [
            "lat: -66; lon:32\n"
          ]
        },
        {
          "name": "stderr",
          "output_type": "stream",
          "text": [
            "  5%|▌         | 5/100 [00:01<00:22,  4.22it/s]"
          ]
        },
        {
          "name": "stdout",
          "output_type": "stream",
          "text": [
            "lat: -68; lon:-20\n"
          ]
        },
        {
          "name": "stderr",
          "output_type": "stream",
          "text": [
            "  6%|▌         | 6/100 [00:01<00:27,  3.45it/s]"
          ]
        },
        {
          "name": "stdout",
          "output_type": "stream",
          "text": [
            "lat: 24; lon:-120\n"
          ]
        },
        {
          "name": "stderr",
          "output_type": "stream",
          "text": [
            "  7%|▋         | 7/100 [00:01<00:26,  3.55it/s]"
          ]
        },
        {
          "name": "stdout",
          "output_type": "stream",
          "text": [
            "lat: 44; lon:38\n"
          ]
        },
        {
          "name": "stderr",
          "output_type": "stream",
          "text": [
            "  8%|▊         | 8/100 [00:02<00:27,  3.37it/s]"
          ]
        },
        {
          "name": "stdout",
          "output_type": "stream",
          "text": [
            "lat: -46; lon:-136\n"
          ]
        },
        {
          "name": "stderr",
          "output_type": "stream",
          "text": [
            "  9%|▉         | 9/100 [00:02<00:29,  3.08it/s]"
          ]
        },
        {
          "name": "stdout",
          "output_type": "stream",
          "text": [
            "lat: -60; lon:-108\n"
          ]
        },
        {
          "name": "stderr",
          "output_type": "stream",
          "text": [
            " 10%|█         | 10/100 [00:03<00:33,  2.65it/s]"
          ]
        },
        {
          "name": "stdout",
          "output_type": "stream",
          "text": [
            "lat: -42; lon:-72\n"
          ]
        },
        {
          "name": "stderr",
          "output_type": "stream",
          "text": [
            " 11%|█         | 11/100 [00:03<00:37,  2.40it/s]"
          ]
        },
        {
          "name": "stdout",
          "output_type": "stream",
          "text": [
            "lat: 54; lon:-22\n"
          ]
        },
        {
          "name": "stderr",
          "output_type": "stream",
          "text": [
            " 12%|█▏        | 12/100 [00:03<00:35,  2.49it/s]"
          ]
        },
        {
          "name": "stdout",
          "output_type": "stream",
          "text": [
            "lat: 20; lon:-24\n"
          ]
        },
        {
          "name": "stderr",
          "output_type": "stream",
          "text": [
            " 13%|█▎        | 13/100 [00:04<00:34,  2.55it/s]"
          ]
        },
        {
          "name": "stdout",
          "output_type": "stream",
          "text": [
            "lat: -58; lon:-160\n"
          ]
        },
        {
          "name": "stderr",
          "output_type": "stream",
          "text": [
            " 14%|█▍        | 14/100 [00:04<00:31,  2.71it/s]"
          ]
        },
        {
          "name": "stdout",
          "output_type": "stream",
          "text": [
            "lat: -66; lon:-12\n"
          ]
        },
        {
          "name": "stderr",
          "output_type": "stream",
          "text": [
            " 15%|█▌        | 15/100 [00:04<00:30,  2.76it/s]"
          ]
        },
        {
          "name": "stdout",
          "output_type": "stream",
          "text": [
            "lat: -50; lon:134\n"
          ]
        },
        {
          "name": "stderr",
          "output_type": "stream",
          "text": [
            " 16%|█▌        | 16/100 [00:05<00:31,  2.68it/s]"
          ]
        },
        {
          "name": "stdout",
          "output_type": "stream",
          "text": [
            "lat: 80; lon:-4\n"
          ]
        },
        {
          "name": "stderr",
          "output_type": "stream",
          "text": [
            " 17%|█▋        | 17/100 [00:05<00:30,  2.69it/s]"
          ]
        },
        {
          "name": "stdout",
          "output_type": "stream",
          "text": [
            "lat: -16; lon:-36\n"
          ]
        },
        {
          "name": "stderr",
          "output_type": "stream",
          "text": [
            " 18%|█▊        | 18/100 [00:06<00:30,  2.67it/s]"
          ]
        },
        {
          "name": "stdout",
          "output_type": "stream",
          "text": [
            "lat: -66; lon:-110\n"
          ]
        },
        {
          "name": "stderr",
          "output_type": "stream",
          "text": [
            " 19%|█▉        | 19/100 [00:06<00:29,  2.76it/s]"
          ]
        },
        {
          "name": "stdout",
          "output_type": "stream",
          "text": [
            "lat: -8; lon:-22\n"
          ]
        },
        {
          "name": "stderr",
          "output_type": "stream",
          "text": [
            " 20%|██        | 20/100 [00:06<00:29,  2.74it/s]"
          ]
        },
        {
          "name": "stdout",
          "output_type": "stream",
          "text": [
            "lat: 40; lon:-10\n"
          ]
        },
        {
          "name": "stderr",
          "output_type": "stream",
          "text": [
            " 21%|██        | 21/100 [00:07<00:28,  2.77it/s]"
          ]
        },
        {
          "name": "stdout",
          "output_type": "stream",
          "text": [
            "lat: -50; lon:-120\n"
          ]
        },
        {
          "name": "stderr",
          "output_type": "stream",
          "text": [
            " 22%|██▏       | 22/100 [00:07<00:28,  2.72it/s]"
          ]
        },
        {
          "name": "stdout",
          "output_type": "stream",
          "text": [
            "lat: -74; lon:-142\n"
          ]
        },
        {
          "name": "stderr",
          "output_type": "stream",
          "text": [
            " 23%|██▎       | 23/100 [00:07<00:28,  2.69it/s]"
          ]
        },
        {
          "name": "stdout",
          "output_type": "stream",
          "text": [
            "lat: 72; lon:52\n"
          ]
        },
        {
          "name": "stderr",
          "output_type": "stream",
          "text": [
            " 24%|██▍       | 24/100 [00:08<00:28,  2.68it/s]"
          ]
        },
        {
          "name": "stdout",
          "output_type": "stream",
          "text": [
            "lat: -56; lon:22\n"
          ]
        },
        {
          "name": "stderr",
          "output_type": "stream",
          "text": [
            " 25%|██▌       | 25/100 [00:08<00:26,  2.80it/s]"
          ]
        },
        {
          "name": "stdout",
          "output_type": "stream",
          "text": [
            "lat: -36; lon:98\n"
          ]
        },
        {
          "name": "stderr",
          "output_type": "stream",
          "text": [
            " 26%|██▌       | 26/100 [00:08<00:26,  2.83it/s]"
          ]
        },
        {
          "name": "stdout",
          "output_type": "stream",
          "text": [
            "lat: 48; lon:-40\n"
          ]
        },
        {
          "name": "stderr",
          "output_type": "stream",
          "text": [
            " 27%|██▋       | 27/100 [00:09<00:25,  2.82it/s]"
          ]
        },
        {
          "name": "stdout",
          "output_type": "stream",
          "text": [
            "lat: 74; lon:-76\n"
          ]
        },
        {
          "name": "stderr",
          "output_type": "stream",
          "text": [
            " 28%|██▊       | 28/100 [00:09<00:25,  2.80it/s]"
          ]
        },
        {
          "name": "stdout",
          "output_type": "stream",
          "text": [
            "lat: -72; lon:-142\n"
          ]
        },
        {
          "name": "stderr",
          "output_type": "stream",
          "text": [
            " 29%|██▉       | 29/100 [00:10<00:24,  2.87it/s]"
          ]
        },
        {
          "name": "stdout",
          "output_type": "stream",
          "text": [
            "lat: 80; lon:74\n"
          ]
        },
        {
          "name": "stderr",
          "output_type": "stream",
          "text": [
            " 30%|███       | 30/100 [00:10<00:25,  2.80it/s]"
          ]
        },
        {
          "name": "stdout",
          "output_type": "stream",
          "text": [
            "lat: 4; lon:-156\n"
          ]
        },
        {
          "name": "stderr",
          "output_type": "stream",
          "text": [
            " 31%|███       | 31/100 [00:10<00:25,  2.73it/s]"
          ]
        },
        {
          "name": "stdout",
          "output_type": "stream",
          "text": [
            "lat: -54; lon:168\n"
          ]
        },
        {
          "name": "stderr",
          "output_type": "stream",
          "text": [
            " 32%|███▏      | 32/100 [00:11<00:24,  2.78it/s]"
          ]
        },
        {
          "name": "stdout",
          "output_type": "stream",
          "text": [
            "lat: -44; lon:44\n"
          ]
        },
        {
          "name": "stderr",
          "output_type": "stream",
          "text": [
            " 33%|███▎      | 33/100 [00:11<00:22,  2.96it/s]"
          ]
        },
        {
          "name": "stdout",
          "output_type": "stream",
          "text": [
            "lat: 34; lon:-174\n"
          ]
        },
        {
          "name": "stderr",
          "output_type": "stream",
          "text": [
            " 34%|███▍      | 34/100 [00:11<00:19,  3.32it/s]"
          ]
        },
        {
          "name": "stdout",
          "output_type": "stream",
          "text": [
            "lat: -58; lon:164\n"
          ]
        },
        {
          "name": "stderr",
          "output_type": "stream",
          "text": [
            " 35%|███▌      | 35/100 [00:11<00:18,  3.51it/s]"
          ]
        },
        {
          "name": "stdout",
          "output_type": "stream",
          "text": [
            "lat: -66; lon:4\n"
          ]
        },
        {
          "name": "stderr",
          "output_type": "stream",
          "text": [
            " 36%|███▌      | 36/100 [00:12<00:18,  3.45it/s]"
          ]
        },
        {
          "name": "stdout",
          "output_type": "stream",
          "text": [
            "lat: 52; lon:-132\n"
          ]
        },
        {
          "name": "stderr",
          "output_type": "stream",
          "text": [
            " 37%|███▋      | 37/100 [00:12<00:19,  3.23it/s]"
          ]
        },
        {
          "name": "stdout",
          "output_type": "stream",
          "text": [
            "lat: 52; lon:-4\n"
          ]
        },
        {
          "name": "stderr",
          "output_type": "stream",
          "text": [
            " 38%|███▊      | 38/100 [00:12<00:20,  3.09it/s]"
          ]
        },
        {
          "name": "stdout",
          "output_type": "stream",
          "text": [
            "lat: -50; lon:40\n"
          ]
        },
        {
          "name": "stderr",
          "output_type": "stream",
          "text": [
            " 39%|███▉      | 39/100 [00:13<00:19,  3.13it/s]"
          ]
        },
        {
          "name": "stdout",
          "output_type": "stream",
          "text": [
            "lat: -42; lon:126\n"
          ]
        },
        {
          "name": "stderr",
          "output_type": "stream",
          "text": [
            " 40%|████      | 40/100 [00:13<00:22,  2.71it/s]"
          ]
        },
        {
          "name": "stdout",
          "output_type": "stream",
          "text": [
            "lat: -52; lon:-86\n"
          ]
        },
        {
          "name": "stderr",
          "output_type": "stream",
          "text": [
            " 41%|████      | 41/100 [00:13<00:20,  2.88it/s]"
          ]
        },
        {
          "name": "stdout",
          "output_type": "stream",
          "text": [
            "lat: -10; lon:-16\n"
          ]
        },
        {
          "name": "stderr",
          "output_type": "stream",
          "text": [
            " 42%|████▏     | 42/100 [00:14<00:19,  2.99it/s]"
          ]
        },
        {
          "name": "stdout",
          "output_type": "stream",
          "text": [
            "lat: 28; lon:-142\n"
          ]
        },
        {
          "name": "stderr",
          "output_type": "stream",
          "text": [
            " 43%|████▎     | 43/100 [00:14<00:18,  3.03it/s]"
          ]
        },
        {
          "name": "stdout",
          "output_type": "stream",
          "text": [
            "lat: -70; lon:-28\n"
          ]
        },
        {
          "name": "stderr",
          "output_type": "stream",
          "text": [
            " 44%|████▍     | 44/100 [00:14<00:17,  3.25it/s]"
          ]
        },
        {
          "name": "stdout",
          "output_type": "stream",
          "text": [
            "lat: 36; lon:164\n"
          ]
        },
        {
          "name": "stderr",
          "output_type": "stream",
          "text": [
            " 45%|████▌     | 45/100 [00:15<00:16,  3.36it/s]"
          ]
        },
        {
          "name": "stdout",
          "output_type": "stream",
          "text": [
            "lat: -12; lon:60\n"
          ]
        },
        {
          "name": "stderr",
          "output_type": "stream",
          "text": [
            " 46%|████▌     | 46/100 [00:15<00:16,  3.25it/s]"
          ]
        },
        {
          "name": "stdout",
          "output_type": "stream",
          "text": [
            "lat: 30; lon:-26\n"
          ]
        },
        {
          "name": "stderr",
          "output_type": "stream",
          "text": [
            " 47%|████▋     | 47/100 [00:15<00:15,  3.37it/s]"
          ]
        },
        {
          "name": "stdout",
          "output_type": "stream",
          "text": [
            "lat: 86; lon:-162\n"
          ]
        },
        {
          "name": "stderr",
          "output_type": "stream",
          "text": [
            " 48%|████▊     | 48/100 [00:16<00:16,  3.19it/s]"
          ]
        },
        {
          "name": "stdout",
          "output_type": "stream",
          "text": [
            "lat: -46; lon:-64\n"
          ]
        },
        {
          "name": "stderr",
          "output_type": "stream",
          "text": [
            " 49%|████▉     | 49/100 [00:16<00:15,  3.31it/s]"
          ]
        },
        {
          "name": "stdout",
          "output_type": "stream",
          "text": [
            "lat: -26; lon:88\n"
          ]
        },
        {
          "name": "stderr",
          "output_type": "stream",
          "text": [
            " 50%|█████     | 50/100 [00:16<00:16,  3.03it/s]"
          ]
        },
        {
          "name": "stdout",
          "output_type": "stream",
          "text": [
            "lat: -60; lon:-54\n"
          ]
        },
        {
          "name": "stderr",
          "output_type": "stream",
          "text": [
            " 51%|█████     | 51/100 [00:17<00:14,  3.27it/s]"
          ]
        },
        {
          "name": "stdout",
          "output_type": "stream",
          "text": [
            "lat: -42; lon:174\n"
          ]
        },
        {
          "name": "stderr",
          "output_type": "stream",
          "text": [
            " 52%|█████▏    | 52/100 [00:17<00:14,  3.42it/s]"
          ]
        },
        {
          "name": "stdout",
          "output_type": "stream",
          "text": [
            "lat: 52; lon:144\n"
          ]
        },
        {
          "name": "stderr",
          "output_type": "stream",
          "text": [
            " 53%|█████▎    | 53/100 [00:17<00:13,  3.52it/s]"
          ]
        },
        {
          "name": "stdout",
          "output_type": "stream",
          "text": [
            "lat: 84; lon:-148\n"
          ]
        },
        {
          "name": "stderr",
          "output_type": "stream",
          "text": [
            " 54%|█████▍    | 54/100 [00:17<00:14,  3.28it/s]"
          ]
        },
        {
          "name": "stdout",
          "output_type": "stream",
          "text": [
            "lat: -26; lon:154\n"
          ]
        },
        {
          "name": "stderr",
          "output_type": "stream",
          "text": [
            " 55%|█████▌    | 55/100 [00:18<00:14,  3.16it/s]"
          ]
        },
        {
          "name": "stdout",
          "output_type": "stream",
          "text": [
            "lat: -56; lon:122\n"
          ]
        },
        {
          "name": "stderr",
          "output_type": "stream",
          "text": [
            " 56%|█████▌    | 56/100 [00:18<00:13,  3.21it/s]"
          ]
        },
        {
          "name": "stdout",
          "output_type": "stream",
          "text": [
            "lat: 6; lon:170\n"
          ]
        },
        {
          "name": "stderr",
          "output_type": "stream",
          "text": [
            " 57%|█████▋    | 57/100 [00:18<00:13,  3.29it/s]"
          ]
        },
        {
          "name": "stdout",
          "output_type": "stream",
          "text": [
            "lat: 28; lon:-156\n"
          ]
        },
        {
          "name": "stderr",
          "output_type": "stream",
          "text": [
            " 58%|█████▊    | 58/100 [00:19<00:11,  3.50it/s]"
          ]
        },
        {
          "name": "stdout",
          "output_type": "stream",
          "text": [
            "lat: -46; lon:-160\n"
          ]
        },
        {
          "name": "stderr",
          "output_type": "stream",
          "text": [
            " 59%|█████▉    | 59/100 [00:19<00:12,  3.38it/s]"
          ]
        },
        {
          "name": "stdout",
          "output_type": "stream",
          "text": [
            "lat: 42; lon:-38\n"
          ]
        },
        {
          "name": "stderr",
          "output_type": "stream",
          "text": [
            " 60%|██████    | 60/100 [00:19<00:12,  3.32it/s]"
          ]
        },
        {
          "name": "stdout",
          "output_type": "stream",
          "text": [
            "lat: -12; lon:46\n"
          ]
        },
        {
          "name": "stderr",
          "output_type": "stream",
          "text": [
            " 61%|██████    | 61/100 [00:20<00:11,  3.27it/s]"
          ]
        },
        {
          "name": "stdout",
          "output_type": "stream",
          "text": [
            "lat: 34; lon:-76\n"
          ]
        },
        {
          "name": "stderr",
          "output_type": "stream",
          "text": [
            " 62%|██████▏   | 62/100 [00:20<00:11,  3.39it/s]"
          ]
        },
        {
          "name": "stdout",
          "output_type": "stream",
          "text": [
            "lat: -52; lon:-82\n"
          ]
        },
        {
          "name": "stderr",
          "output_type": "stream",
          "text": [
            " 63%|██████▎   | 63/100 [00:20<00:12,  3.00it/s]"
          ]
        },
        {
          "name": "stdout",
          "output_type": "stream",
          "text": [
            "lat: -12; lon:110\n"
          ]
        },
        {
          "name": "stderr",
          "output_type": "stream",
          "text": [
            " 64%|██████▍   | 64/100 [00:20<00:10,  3.39it/s]"
          ]
        },
        {
          "name": "stdout",
          "output_type": "stream",
          "text": [
            "lat: -42; lon:-32\n"
          ]
        },
        {
          "name": "stderr",
          "output_type": "stream",
          "text": [
            " 65%|██████▌   | 65/100 [00:21<00:09,  3.61it/s]"
          ]
        },
        {
          "name": "stdout",
          "output_type": "stream",
          "text": [
            "lat: 50; lon:-4\n"
          ]
        },
        {
          "name": "stderr",
          "output_type": "stream",
          "text": [
            " 66%|██████▌   | 66/100 [00:21<00:08,  3.90it/s]"
          ]
        },
        {
          "name": "stdout",
          "output_type": "stream",
          "text": [
            "lat: 84; lon:92\n"
          ]
        },
        {
          "name": "stderr",
          "output_type": "stream",
          "text": [
            " 67%|██████▋   | 67/100 [00:21<00:08,  3.86it/s]"
          ]
        },
        {
          "name": "stdout",
          "output_type": "stream",
          "text": [
            "lat: 62; lon:-30\n"
          ]
        },
        {
          "name": "stderr",
          "output_type": "stream",
          "text": [
            " 68%|██████▊   | 68/100 [00:21<00:07,  4.10it/s]"
          ]
        },
        {
          "name": "stdout",
          "output_type": "stream",
          "text": [
            "lat: -64; lon:-8\n"
          ]
        },
        {
          "name": "stderr",
          "output_type": "stream",
          "text": [
            " 70%|███████   | 70/100 [00:22<00:06,  4.52it/s]"
          ]
        },
        {
          "name": "stdout",
          "output_type": "stream",
          "text": [
            "lat: 24; lon:68\n",
            "lat: 66; lon:22\n"
          ]
        },
        {
          "name": "stderr",
          "output_type": "stream",
          "text": [
            " 71%|███████   | 71/100 [00:22<00:06,  4.64it/s]"
          ]
        },
        {
          "name": "stdout",
          "output_type": "stream",
          "text": [
            "lat: -14; lon:96\n"
          ]
        },
        {
          "name": "stderr",
          "output_type": "stream",
          "text": [
            " 72%|███████▏  | 72/100 [00:22<00:06,  4.57it/s]"
          ]
        },
        {
          "name": "stdout",
          "output_type": "stream",
          "text": [
            "lat: -64; lon:156\n"
          ]
        },
        {
          "name": "stderr",
          "output_type": "stream",
          "text": [
            " 73%|███████▎  | 73/100 [00:22<00:06,  4.39it/s]"
          ]
        },
        {
          "name": "stdout",
          "output_type": "stream",
          "text": [
            "lat: 58; lon:176\n"
          ]
        },
        {
          "name": "stderr",
          "output_type": "stream",
          "text": [
            " 74%|███████▍  | 74/100 [00:23<00:06,  4.08it/s]"
          ]
        },
        {
          "name": "stdout",
          "output_type": "stream",
          "text": [
            "lat: 60; lon:-56\n"
          ]
        },
        {
          "name": "stderr",
          "output_type": "stream",
          "text": [
            " 75%|███████▌  | 75/100 [00:23<00:06,  3.63it/s]"
          ]
        },
        {
          "name": "stdout",
          "output_type": "stream",
          "text": [
            "lat: 10; lon:-130\n"
          ]
        },
        {
          "name": "stderr",
          "output_type": "stream",
          "text": [
            " 76%|███████▌  | 76/100 [00:23<00:06,  3.54it/s]"
          ]
        },
        {
          "name": "stdout",
          "output_type": "stream",
          "text": [
            "lat: 16; lon:-16\n"
          ]
        },
        {
          "name": "stderr",
          "output_type": "stream",
          "text": [
            " 77%|███████▋  | 77/100 [00:24<00:06,  3.74it/s]"
          ]
        },
        {
          "name": "stdout",
          "output_type": "stream",
          "text": [
            "lat: 62; lon:-10\n"
          ]
        },
        {
          "name": "stderr",
          "output_type": "stream",
          "text": [
            " 78%|███████▊  | 78/100 [00:24<00:05,  3.76it/s]"
          ]
        },
        {
          "name": "stdout",
          "output_type": "stream",
          "text": [
            "lat: 74; lon:74\n"
          ]
        },
        {
          "name": "stderr",
          "output_type": "stream",
          "text": [
            " 79%|███████▉  | 79/100 [00:24<00:05,  3.69it/s]"
          ]
        },
        {
          "name": "stdout",
          "output_type": "stream",
          "text": [
            "lat: 24; lon:134\n"
          ]
        },
        {
          "name": "stderr",
          "output_type": "stream",
          "text": [
            " 80%|████████  | 80/100 [00:24<00:05,  3.71it/s]"
          ]
        },
        {
          "name": "stdout",
          "output_type": "stream",
          "text": [
            "lat: 28; lon:-24\n"
          ]
        },
        {
          "name": "stderr",
          "output_type": "stream",
          "text": [
            " 81%|████████  | 81/100 [00:25<00:04,  3.83it/s]"
          ]
        },
        {
          "name": "stdout",
          "output_type": "stream",
          "text": [
            "lat: 50; lon:-146\n"
          ]
        },
        {
          "name": "stderr",
          "output_type": "stream",
          "text": [
            " 82%|████████▏ | 82/100 [00:25<00:04,  3.84it/s]"
          ]
        },
        {
          "name": "stdout",
          "output_type": "stream",
          "text": [
            "lat: -42; lon:-92\n"
          ]
        },
        {
          "name": "stderr",
          "output_type": "stream",
          "text": [
            " 83%|████████▎ | 83/100 [00:25<00:04,  3.62it/s]"
          ]
        },
        {
          "name": "stdout",
          "output_type": "stream",
          "text": [
            "lat: 12; lon:-112\n"
          ]
        },
        {
          "name": "stderr",
          "output_type": "stream",
          "text": [
            " 84%|████████▍ | 84/100 [00:26<00:04,  3.45it/s]"
          ]
        },
        {
          "name": "stdout",
          "output_type": "stream",
          "text": [
            "lat: -34; lon:-152\n"
          ]
        },
        {
          "name": "stderr",
          "output_type": "stream",
          "text": [
            " 85%|████████▌ | 85/100 [00:26<00:04,  3.61it/s]"
          ]
        },
        {
          "name": "stdout",
          "output_type": "stream",
          "text": [
            "lat: 22; lon:-154\n"
          ]
        },
        {
          "name": "stderr",
          "output_type": "stream",
          "text": [
            " 86%|████████▌ | 86/100 [00:26<00:03,  3.73it/s]"
          ]
        },
        {
          "name": "stdout",
          "output_type": "stream",
          "text": [
            "lat: -62; lon:-150\n"
          ]
        },
        {
          "name": "stderr",
          "output_type": "stream",
          "text": [
            " 87%|████████▋ | 87/100 [00:26<00:03,  3.80it/s]"
          ]
        },
        {
          "name": "stdout",
          "output_type": "stream",
          "text": [
            "lat: 28; lon:152\n"
          ]
        },
        {
          "name": "stderr",
          "output_type": "stream",
          "text": [
            " 88%|████████▊ | 88/100 [00:27<00:03,  3.91it/s]"
          ]
        },
        {
          "name": "stdout",
          "output_type": "stream",
          "text": [
            "lat: -24; lon:4\n"
          ]
        },
        {
          "name": "stderr",
          "output_type": "stream",
          "text": [
            " 89%|████████▉ | 89/100 [00:27<00:02,  3.97it/s]"
          ]
        },
        {
          "name": "stdout",
          "output_type": "stream",
          "text": [
            "lat: -50; lon:-158\n"
          ]
        },
        {
          "name": "stderr",
          "output_type": "stream",
          "text": [
            " 90%|█████████ | 90/100 [00:27<00:02,  3.49it/s]"
          ]
        },
        {
          "name": "stdout",
          "output_type": "stream",
          "text": [
            "lat: 40; lon:-146\n"
          ]
        },
        {
          "name": "stderr",
          "output_type": "stream",
          "text": [
            " 91%|█████████ | 91/100 [00:28<00:02,  3.08it/s]"
          ]
        },
        {
          "name": "stdout",
          "output_type": "stream",
          "text": [
            "lat: 78; lon:146\n"
          ]
        },
        {
          "name": "stderr",
          "output_type": "stream",
          "text": [
            " 92%|█████████▏| 92/100 [00:28<00:02,  3.00it/s]"
          ]
        },
        {
          "name": "stdout",
          "output_type": "stream",
          "text": [
            "lat: 86; lon:-12\n"
          ]
        },
        {
          "name": "stderr",
          "output_type": "stream",
          "text": [
            " 93%|█████████▎| 93/100 [00:28<00:02,  2.83it/s]"
          ]
        },
        {
          "name": "stdout",
          "output_type": "stream",
          "text": [
            "lat: -34; lon:-50\n"
          ]
        },
        {
          "name": "stderr",
          "output_type": "stream",
          "text": [
            " 94%|█████████▍| 94/100 [00:29<00:02,  2.66it/s]"
          ]
        },
        {
          "name": "stdout",
          "output_type": "stream",
          "text": [
            "lat: 84; lon:18\n"
          ]
        },
        {
          "name": "stderr",
          "output_type": "stream",
          "text": [
            " 95%|█████████▌| 95/100 [00:29<00:01,  2.58it/s]"
          ]
        },
        {
          "name": "stdout",
          "output_type": "stream",
          "text": [
            "lat: -28; lon:2\n"
          ]
        },
        {
          "name": "stderr",
          "output_type": "stream",
          "text": [
            " 96%|█████████▌| 96/100 [00:29<00:01,  2.66it/s]"
          ]
        },
        {
          "name": "stdout",
          "output_type": "stream",
          "text": [
            "lat: -64; lon:46\n"
          ]
        },
        {
          "name": "stderr",
          "output_type": "stream",
          "text": [
            " 97%|█████████▋| 97/100 [00:30<00:01,  2.63it/s]"
          ]
        },
        {
          "name": "stdout",
          "output_type": "stream",
          "text": [
            "lat: -12; lon:-90\n"
          ]
        },
        {
          "name": "stderr",
          "output_type": "stream",
          "text": [
            " 98%|█████████▊| 98/100 [00:30<00:00,  2.53it/s]"
          ]
        },
        {
          "name": "stdout",
          "output_type": "stream",
          "text": [
            "lat: -2; lon:158\n"
          ]
        },
        {
          "name": "stderr",
          "output_type": "stream",
          "text": [
            " 99%|█████████▉| 99/100 [00:31<00:00,  2.43it/s]"
          ]
        },
        {
          "name": "stdout",
          "output_type": "stream",
          "text": [
            "lat: 34; lon:172\n"
          ]
        },
        {
          "name": "stderr",
          "output_type": "stream",
          "text": [
            "100%|██████████| 100/100 [00:31<00:00,  3.16it/s]"
          ]
        },
        {
          "name": "stdout",
          "output_type": "stream",
          "text": [
            "lat: 12; lon:50\n"
          ]
        },
        {
          "name": "stderr",
          "output_type": "stream",
          "text": [
            "\n"
          ]
        }
      ],
      "source": [
        "error_list = []\n",
        "\n",
        "for point_coordinates in tqdm(list_points):\n",
        "    try:\n",
        "        point_pipeline = DSPipeline(df, point_coordinates[0], point_coordinates[1], split_date, forecast_horizon=12)\n",
        "        rmse = point_pipeline.make_pipeline(.3, 0.3)\n",
        "        mape = point_pipeline.evaluate_mape()\n",
        "        error_list.append((rmse, mape))\n",
        "    except Exception as e:\n",
        "        print(f'{e} - lat: {point_coordinates[0]}; lon:{point_coordinates[1]}')\n"
      ]
    },
    {
      "cell_type": "code",
      "execution_count": 70,
      "metadata": {
        "id": "LxBb52qCmQKD"
      },
      "outputs": [],
      "source": [
        "results_df = pd.DataFrame(error_list)\n",
        "results_df.rename({0: 'rmse', 1: 'mape'}, axis=1).to_csv('../dados/svr_results.csv')"
      ]
    },
    {
      "cell_type": "markdown",
      "metadata": {
        "id": "fER-oKHPmQKD"
      },
      "source": [
        "## Sequential SVR"
      ]
    },
    {
      "cell_type": "markdown",
      "metadata": {},
      "source": [
        "Standartize data"
      ]
    },
    {
      "cell_type": "code",
      "execution_count": 201,
      "metadata": {},
      "outputs": [],
      "source": [
        "from sklearn.preprocessing import StandardScaler, MinMaxScaler"
      ]
    },
    {
      "cell_type": "code",
      "execution_count": 202,
      "metadata": {},
      "outputs": [
        {
          "name": "stdout",
          "output_type": "stream",
          "text": [
            "3690\n",
            "0\n"
          ]
        }
      ],
      "source": [
        "print(len(np.unique(df['sst'].to_numpy())))\n",
        "print(np.count_nonzero(np.isnan(df['sst'].to_numpy())))"
      ]
    },
    {
      "cell_type": "code",
      "execution_count": 203,
      "metadata": {},
      "outputs": [
        {
          "data": {
            "text/plain": [
              "array([[-1.79],\n",
              "       [-1.79],\n",
              "       [-1.79],\n",
              "       ...,\n",
              "       [-1.79],\n",
              "       [-1.79],\n",
              "       [-1.79]], dtype=float32)"
            ]
          },
          "execution_count": 203,
          "metadata": {},
          "output_type": "execute_result"
        }
      ],
      "source": [
        "df['sst'].to_numpy().reshape(-1, 1)"
      ]
    },
    {
      "cell_type": "code",
      "execution_count": 204,
      "metadata": {},
      "outputs": [
        {
          "data": {
            "text/html": [
              "<style>#sk-container-id-3 {\n",
              "  /* Definition of color scheme common for light and dark mode */\n",
              "  --sklearn-color-text: black;\n",
              "  --sklearn-color-line: gray;\n",
              "  /* Definition of color scheme for unfitted estimators */\n",
              "  --sklearn-color-unfitted-level-0: #fff5e6;\n",
              "  --sklearn-color-unfitted-level-1: #f6e4d2;\n",
              "  --sklearn-color-unfitted-level-2: #ffe0b3;\n",
              "  --sklearn-color-unfitted-level-3: chocolate;\n",
              "  /* Definition of color scheme for fitted estimators */\n",
              "  --sklearn-color-fitted-level-0: #f0f8ff;\n",
              "  --sklearn-color-fitted-level-1: #d4ebff;\n",
              "  --sklearn-color-fitted-level-2: #b3dbfd;\n",
              "  --sklearn-color-fitted-level-3: cornflowerblue;\n",
              "\n",
              "  /* Specific color for light theme */\n",
              "  --sklearn-color-text-on-default-background: var(--sg-text-color, var(--theme-code-foreground, var(--jp-content-font-color1, black)));\n",
              "  --sklearn-color-background: var(--sg-background-color, var(--theme-background, var(--jp-layout-color0, white)));\n",
              "  --sklearn-color-border-box: var(--sg-text-color, var(--theme-code-foreground, var(--jp-content-font-color1, black)));\n",
              "  --sklearn-color-icon: #696969;\n",
              "\n",
              "  @media (prefers-color-scheme: dark) {\n",
              "    /* Redefinition of color scheme for dark theme */\n",
              "    --sklearn-color-text-on-default-background: var(--sg-text-color, var(--theme-code-foreground, var(--jp-content-font-color1, white)));\n",
              "    --sklearn-color-background: var(--sg-background-color, var(--theme-background, var(--jp-layout-color0, #111)));\n",
              "    --sklearn-color-border-box: var(--sg-text-color, var(--theme-code-foreground, var(--jp-content-font-color1, white)));\n",
              "    --sklearn-color-icon: #878787;\n",
              "  }\n",
              "}\n",
              "\n",
              "#sk-container-id-3 {\n",
              "  color: var(--sklearn-color-text);\n",
              "}\n",
              "\n",
              "#sk-container-id-3 pre {\n",
              "  padding: 0;\n",
              "}\n",
              "\n",
              "#sk-container-id-3 input.sk-hidden--visually {\n",
              "  border: 0;\n",
              "  clip: rect(1px 1px 1px 1px);\n",
              "  clip: rect(1px, 1px, 1px, 1px);\n",
              "  height: 1px;\n",
              "  margin: -1px;\n",
              "  overflow: hidden;\n",
              "  padding: 0;\n",
              "  position: absolute;\n",
              "  width: 1px;\n",
              "}\n",
              "\n",
              "#sk-container-id-3 div.sk-dashed-wrapped {\n",
              "  border: 1px dashed var(--sklearn-color-line);\n",
              "  margin: 0 0.4em 0.5em 0.4em;\n",
              "  box-sizing: border-box;\n",
              "  padding-bottom: 0.4em;\n",
              "  background-color: var(--sklearn-color-background);\n",
              "}\n",
              "\n",
              "#sk-container-id-3 div.sk-container {\n",
              "  /* jupyter's `normalize.less` sets `[hidden] { display: none; }`\n",
              "     but bootstrap.min.css set `[hidden] { display: none !important; }`\n",
              "     so we also need the `!important` here to be able to override the\n",
              "     default hidden behavior on the sphinx rendered scikit-learn.org.\n",
              "     See: https://github.com/scikit-learn/scikit-learn/issues/21755 */\n",
              "  display: inline-block !important;\n",
              "  position: relative;\n",
              "}\n",
              "\n",
              "#sk-container-id-3 div.sk-text-repr-fallback {\n",
              "  display: none;\n",
              "}\n",
              "\n",
              "div.sk-parallel-item,\n",
              "div.sk-serial,\n",
              "div.sk-item {\n",
              "  /* draw centered vertical line to link estimators */\n",
              "  background-image: linear-gradient(var(--sklearn-color-text-on-default-background), var(--sklearn-color-text-on-default-background));\n",
              "  background-size: 2px 100%;\n",
              "  background-repeat: no-repeat;\n",
              "  background-position: center center;\n",
              "}\n",
              "\n",
              "/* Parallel-specific style estimator block */\n",
              "\n",
              "#sk-container-id-3 div.sk-parallel-item::after {\n",
              "  content: \"\";\n",
              "  width: 100%;\n",
              "  border-bottom: 2px solid var(--sklearn-color-text-on-default-background);\n",
              "  flex-grow: 1;\n",
              "}\n",
              "\n",
              "#sk-container-id-3 div.sk-parallel {\n",
              "  display: flex;\n",
              "  align-items: stretch;\n",
              "  justify-content: center;\n",
              "  background-color: var(--sklearn-color-background);\n",
              "  position: relative;\n",
              "}\n",
              "\n",
              "#sk-container-id-3 div.sk-parallel-item {\n",
              "  display: flex;\n",
              "  flex-direction: column;\n",
              "}\n",
              "\n",
              "#sk-container-id-3 div.sk-parallel-item:first-child::after {\n",
              "  align-self: flex-end;\n",
              "  width: 50%;\n",
              "}\n",
              "\n",
              "#sk-container-id-3 div.sk-parallel-item:last-child::after {\n",
              "  align-self: flex-start;\n",
              "  width: 50%;\n",
              "}\n",
              "\n",
              "#sk-container-id-3 div.sk-parallel-item:only-child::after {\n",
              "  width: 0;\n",
              "}\n",
              "\n",
              "/* Serial-specific style estimator block */\n",
              "\n",
              "#sk-container-id-3 div.sk-serial {\n",
              "  display: flex;\n",
              "  flex-direction: column;\n",
              "  align-items: center;\n",
              "  background-color: var(--sklearn-color-background);\n",
              "  padding-right: 1em;\n",
              "  padding-left: 1em;\n",
              "}\n",
              "\n",
              "\n",
              "/* Toggleable style: style used for estimator/Pipeline/ColumnTransformer box that is\n",
              "clickable and can be expanded/collapsed.\n",
              "- Pipeline and ColumnTransformer use this feature and define the default style\n",
              "- Estimators will overwrite some part of the style using the `sk-estimator` class\n",
              "*/\n",
              "\n",
              "/* Pipeline and ColumnTransformer style (default) */\n",
              "\n",
              "#sk-container-id-3 div.sk-toggleable {\n",
              "  /* Default theme specific background. It is overwritten whether we have a\n",
              "  specific estimator or a Pipeline/ColumnTransformer */\n",
              "  background-color: var(--sklearn-color-background);\n",
              "}\n",
              "\n",
              "/* Toggleable label */\n",
              "#sk-container-id-3 label.sk-toggleable__label {\n",
              "  cursor: pointer;\n",
              "  display: block;\n",
              "  width: 100%;\n",
              "  margin-bottom: 0;\n",
              "  padding: 0.5em;\n",
              "  box-sizing: border-box;\n",
              "  text-align: center;\n",
              "}\n",
              "\n",
              "#sk-container-id-3 label.sk-toggleable__label-arrow:before {\n",
              "  /* Arrow on the left of the label */\n",
              "  content: \"▸\";\n",
              "  float: left;\n",
              "  margin-right: 0.25em;\n",
              "  color: var(--sklearn-color-icon);\n",
              "}\n",
              "\n",
              "#sk-container-id-3 label.sk-toggleable__label-arrow:hover:before {\n",
              "  color: var(--sklearn-color-text);\n",
              "}\n",
              "\n",
              "/* Toggleable content - dropdown */\n",
              "\n",
              "#sk-container-id-3 div.sk-toggleable__content {\n",
              "  max-height: 0;\n",
              "  max-width: 0;\n",
              "  overflow: hidden;\n",
              "  text-align: left;\n",
              "  /* unfitted */\n",
              "  background-color: var(--sklearn-color-unfitted-level-0);\n",
              "}\n",
              "\n",
              "#sk-container-id-3 div.sk-toggleable__content.fitted {\n",
              "  /* fitted */\n",
              "  background-color: var(--sklearn-color-fitted-level-0);\n",
              "}\n",
              "\n",
              "#sk-container-id-3 div.sk-toggleable__content pre {\n",
              "  margin: 0.2em;\n",
              "  border-radius: 0.25em;\n",
              "  color: var(--sklearn-color-text);\n",
              "  /* unfitted */\n",
              "  background-color: var(--sklearn-color-unfitted-level-0);\n",
              "}\n",
              "\n",
              "#sk-container-id-3 div.sk-toggleable__content.fitted pre {\n",
              "  /* unfitted */\n",
              "  background-color: var(--sklearn-color-fitted-level-0);\n",
              "}\n",
              "\n",
              "#sk-container-id-3 input.sk-toggleable__control:checked~div.sk-toggleable__content {\n",
              "  /* Expand drop-down */\n",
              "  max-height: 200px;\n",
              "  max-width: 100%;\n",
              "  overflow: auto;\n",
              "}\n",
              "\n",
              "#sk-container-id-3 input.sk-toggleable__control:checked~label.sk-toggleable__label-arrow:before {\n",
              "  content: \"▾\";\n",
              "}\n",
              "\n",
              "/* Pipeline/ColumnTransformer-specific style */\n",
              "\n",
              "#sk-container-id-3 div.sk-label input.sk-toggleable__control:checked~label.sk-toggleable__label {\n",
              "  color: var(--sklearn-color-text);\n",
              "  background-color: var(--sklearn-color-unfitted-level-2);\n",
              "}\n",
              "\n",
              "#sk-container-id-3 div.sk-label.fitted input.sk-toggleable__control:checked~label.sk-toggleable__label {\n",
              "  background-color: var(--sklearn-color-fitted-level-2);\n",
              "}\n",
              "\n",
              "/* Estimator-specific style */\n",
              "\n",
              "/* Colorize estimator box */\n",
              "#sk-container-id-3 div.sk-estimator input.sk-toggleable__control:checked~label.sk-toggleable__label {\n",
              "  /* unfitted */\n",
              "  background-color: var(--sklearn-color-unfitted-level-2);\n",
              "}\n",
              "\n",
              "#sk-container-id-3 div.sk-estimator.fitted input.sk-toggleable__control:checked~label.sk-toggleable__label {\n",
              "  /* fitted */\n",
              "  background-color: var(--sklearn-color-fitted-level-2);\n",
              "}\n",
              "\n",
              "#sk-container-id-3 div.sk-label label.sk-toggleable__label,\n",
              "#sk-container-id-3 div.sk-label label {\n",
              "  /* The background is the default theme color */\n",
              "  color: var(--sklearn-color-text-on-default-background);\n",
              "}\n",
              "\n",
              "/* On hover, darken the color of the background */\n",
              "#sk-container-id-3 div.sk-label:hover label.sk-toggleable__label {\n",
              "  color: var(--sklearn-color-text);\n",
              "  background-color: var(--sklearn-color-unfitted-level-2);\n",
              "}\n",
              "\n",
              "/* Label box, darken color on hover, fitted */\n",
              "#sk-container-id-3 div.sk-label.fitted:hover label.sk-toggleable__label.fitted {\n",
              "  color: var(--sklearn-color-text);\n",
              "  background-color: var(--sklearn-color-fitted-level-2);\n",
              "}\n",
              "\n",
              "/* Estimator label */\n",
              "\n",
              "#sk-container-id-3 div.sk-label label {\n",
              "  font-family: monospace;\n",
              "  font-weight: bold;\n",
              "  display: inline-block;\n",
              "  line-height: 1.2em;\n",
              "}\n",
              "\n",
              "#sk-container-id-3 div.sk-label-container {\n",
              "  text-align: center;\n",
              "}\n",
              "\n",
              "/* Estimator-specific */\n",
              "#sk-container-id-3 div.sk-estimator {\n",
              "  font-family: monospace;\n",
              "  border: 1px dotted var(--sklearn-color-border-box);\n",
              "  border-radius: 0.25em;\n",
              "  box-sizing: border-box;\n",
              "  margin-bottom: 0.5em;\n",
              "  /* unfitted */\n",
              "  background-color: var(--sklearn-color-unfitted-level-0);\n",
              "}\n",
              "\n",
              "#sk-container-id-3 div.sk-estimator.fitted {\n",
              "  /* fitted */\n",
              "  background-color: var(--sklearn-color-fitted-level-0);\n",
              "}\n",
              "\n",
              "/* on hover */\n",
              "#sk-container-id-3 div.sk-estimator:hover {\n",
              "  /* unfitted */\n",
              "  background-color: var(--sklearn-color-unfitted-level-2);\n",
              "}\n",
              "\n",
              "#sk-container-id-3 div.sk-estimator.fitted:hover {\n",
              "  /* fitted */\n",
              "  background-color: var(--sklearn-color-fitted-level-2);\n",
              "}\n",
              "\n",
              "/* Specification for estimator info (e.g. \"i\" and \"?\") */\n",
              "\n",
              "/* Common style for \"i\" and \"?\" */\n",
              "\n",
              ".sk-estimator-doc-link,\n",
              "a:link.sk-estimator-doc-link,\n",
              "a:visited.sk-estimator-doc-link {\n",
              "  float: right;\n",
              "  font-size: smaller;\n",
              "  line-height: 1em;\n",
              "  font-family: monospace;\n",
              "  background-color: var(--sklearn-color-background);\n",
              "  border-radius: 1em;\n",
              "  height: 1em;\n",
              "  width: 1em;\n",
              "  text-decoration: none !important;\n",
              "  margin-left: 1ex;\n",
              "  /* unfitted */\n",
              "  border: var(--sklearn-color-unfitted-level-1) 1pt solid;\n",
              "  color: var(--sklearn-color-unfitted-level-1);\n",
              "}\n",
              "\n",
              ".sk-estimator-doc-link.fitted,\n",
              "a:link.sk-estimator-doc-link.fitted,\n",
              "a:visited.sk-estimator-doc-link.fitted {\n",
              "  /* fitted */\n",
              "  border: var(--sklearn-color-fitted-level-1) 1pt solid;\n",
              "  color: var(--sklearn-color-fitted-level-1);\n",
              "}\n",
              "\n",
              "/* On hover */\n",
              "div.sk-estimator:hover .sk-estimator-doc-link:hover,\n",
              ".sk-estimator-doc-link:hover,\n",
              "div.sk-label-container:hover .sk-estimator-doc-link:hover,\n",
              ".sk-estimator-doc-link:hover {\n",
              "  /* unfitted */\n",
              "  background-color: var(--sklearn-color-unfitted-level-3);\n",
              "  color: var(--sklearn-color-background);\n",
              "  text-decoration: none;\n",
              "}\n",
              "\n",
              "div.sk-estimator.fitted:hover .sk-estimator-doc-link.fitted:hover,\n",
              ".sk-estimator-doc-link.fitted:hover,\n",
              "div.sk-label-container:hover .sk-estimator-doc-link.fitted:hover,\n",
              ".sk-estimator-doc-link.fitted:hover {\n",
              "  /* fitted */\n",
              "  background-color: var(--sklearn-color-fitted-level-3);\n",
              "  color: var(--sklearn-color-background);\n",
              "  text-decoration: none;\n",
              "}\n",
              "\n",
              "/* Span, style for the box shown on hovering the info icon */\n",
              ".sk-estimator-doc-link span {\n",
              "  display: none;\n",
              "  z-index: 9999;\n",
              "  position: relative;\n",
              "  font-weight: normal;\n",
              "  right: .2ex;\n",
              "  padding: .5ex;\n",
              "  margin: .5ex;\n",
              "  width: min-content;\n",
              "  min-width: 20ex;\n",
              "  max-width: 50ex;\n",
              "  color: var(--sklearn-color-text);\n",
              "  box-shadow: 2pt 2pt 4pt #999;\n",
              "  /* unfitted */\n",
              "  background: var(--sklearn-color-unfitted-level-0);\n",
              "  border: .5pt solid var(--sklearn-color-unfitted-level-3);\n",
              "}\n",
              "\n",
              ".sk-estimator-doc-link.fitted span {\n",
              "  /* fitted */\n",
              "  background: var(--sklearn-color-fitted-level-0);\n",
              "  border: var(--sklearn-color-fitted-level-3);\n",
              "}\n",
              "\n",
              ".sk-estimator-doc-link:hover span {\n",
              "  display: block;\n",
              "}\n",
              "\n",
              "/* \"?\"-specific style due to the `<a>` HTML tag */\n",
              "\n",
              "#sk-container-id-3 a.estimator_doc_link {\n",
              "  float: right;\n",
              "  font-size: 1rem;\n",
              "  line-height: 1em;\n",
              "  font-family: monospace;\n",
              "  background-color: var(--sklearn-color-background);\n",
              "  border-radius: 1rem;\n",
              "  height: 1rem;\n",
              "  width: 1rem;\n",
              "  text-decoration: none;\n",
              "  /* unfitted */\n",
              "  color: var(--sklearn-color-unfitted-level-1);\n",
              "  border: var(--sklearn-color-unfitted-level-1) 1pt solid;\n",
              "}\n",
              "\n",
              "#sk-container-id-3 a.estimator_doc_link.fitted {\n",
              "  /* fitted */\n",
              "  border: var(--sklearn-color-fitted-level-1) 1pt solid;\n",
              "  color: var(--sklearn-color-fitted-level-1);\n",
              "}\n",
              "\n",
              "/* On hover */\n",
              "#sk-container-id-3 a.estimator_doc_link:hover {\n",
              "  /* unfitted */\n",
              "  background-color: var(--sklearn-color-unfitted-level-3);\n",
              "  color: var(--sklearn-color-background);\n",
              "  text-decoration: none;\n",
              "}\n",
              "\n",
              "#sk-container-id-3 a.estimator_doc_link.fitted:hover {\n",
              "  /* fitted */\n",
              "  background-color: var(--sklearn-color-fitted-level-3);\n",
              "}\n",
              "</style><div id=\"sk-container-id-3\" class=\"sk-top-container\"><div class=\"sk-text-repr-fallback\"><pre>MinMaxScaler()</pre><b>In a Jupyter environment, please rerun this cell to show the HTML representation or trust the notebook. <br />On GitHub, the HTML representation is unable to render, please try loading this page with nbviewer.org.</b></div><div class=\"sk-container\" hidden><div class=\"sk-item\"><div class=\"sk-estimator fitted sk-toggleable\"><input class=\"sk-toggleable__control sk-hidden--visually\" id=\"sk-estimator-id-3\" type=\"checkbox\" checked><label for=\"sk-estimator-id-3\" class=\"sk-toggleable__label fitted sk-toggleable__label-arrow fitted\">&nbsp;&nbsp;MinMaxScaler<a class=\"sk-estimator-doc-link fitted\" rel=\"noreferrer\" target=\"_blank\" href=\"https://scikit-learn.org/1.4/modules/generated/sklearn.preprocessing.MinMaxScaler.html\">?<span>Documentation for MinMaxScaler</span></a><span class=\"sk-estimator-doc-link fitted\">i<span>Fitted</span></span></label><div class=\"sk-toggleable__content fitted\"><pre>MinMaxScaler()</pre></div> </div></div></div></div>"
            ],
            "text/plain": [
              "MinMaxScaler()"
            ]
          },
          "execution_count": 204,
          "metadata": {},
          "output_type": "execute_result"
        }
      ],
      "source": [
        "scaler = MinMaxScaler(feature_range=(0, 1))\n",
        "scaler.fit(df['sst'].to_numpy().reshape(-1, 1)) "
      ]
    },
    {
      "cell_type": "code",
      "execution_count": 205,
      "metadata": {},
      "outputs": [],
      "source": [
        "new_sst = scaler.transform(df['sst'].to_numpy().reshape(-1, 1))"
      ]
    },
    {
      "cell_type": "code",
      "execution_count": 206,
      "metadata": {},
      "outputs": [
        {
          "data": {
            "text/plain": [
              "3690"
            ]
          },
          "execution_count": 206,
          "metadata": {},
          "output_type": "execute_result"
        }
      ],
      "source": [
        "len(np.unique(new_sst))"
      ]
    },
    {
      "cell_type": "code",
      "execution_count": 207,
      "metadata": {},
      "outputs": [],
      "source": [
        "df['sst'] = new_sst"
      ]
    },
    {
      "cell_type": "code",
      "execution_count": 86,
      "metadata": {
        "id": "n_TC-8G2mQKD"
      },
      "outputs": [],
      "source": [
        "def read_list_points(filename):\n",
        "    list_points = []\n",
        "    with open(filename, 'r') as file:\n",
        "        for line in file:\n",
        "            line_split = line.split(',')\n",
        "            try:\n",
        "                list_points.append((int(line_split[1]), int(line_split[2])))\n",
        "            except ValueError:\n",
        "                pass\n",
        "    return list_points"
      ]
    },
    {
      "cell_type": "code",
      "execution_count": 87,
      "metadata": {
        "id": "t1dsXXoZmQKD"
      },
      "outputs": [],
      "source": [
        "list_points = read_list_points('../dados/pontos.csv')"
      ]
    },
    {
      "cell_type": "code",
      "execution_count": 285,
      "metadata": {},
      "outputs": [],
      "source": [
        "from sklearn.svm import SVR, NuSVR\n",
        "from sklearn.linear_model import LinearRegression\n",
        "from sklearn.dummy import DummyRegressor\n",
        "from sklearn.tree import DecisionTreeRegressor\n",
        "import random"
      ]
    },
    {
      "cell_type": "code",
      "execution_count": 209,
      "metadata": {},
      "outputs": [],
      "source": [
        "def exp_decay(x):\n",
        "    return np.exp(-x)"
      ]
    },
    {
      "cell_type": "code",
      "execution_count": 339,
      "metadata": {
        "id": "nAcoWvUfmQKE"
      },
      "outputs": [],
      "source": [
        "regressor = DecisionTreeRegressor(\n",
        "    max_depth=1,\n",
        ")\n",
        "\n",
        "class GradientBoosting:\n",
        "    pipeline_list: list[DSPipeline]\n",
        "    def __init__(self, original_point, list_points, horizon: int = 12, learning_rate: float = 0.1):\n",
        "        self.pipeline_list = []\n",
        "        self.predict_pipeline_list = []\n",
        "        self.horizon = horizon\n",
        "        self.learning_rate = learning_rate\n",
        "\n",
        "        self.pipeline_list.append(\n",
        "            DSPipeline(\n",
        "                df, original_point[0], original_point[1], \n",
        "                split_date, forecast_horizon=1, regressor=DummyRegressor()\n",
        "            )\n",
        "        )\n",
        "\n",
        "        list_points.insert(0, original_point)\n",
        "\n",
        "        for point in list_points:\n",
        "            pipeline = DSPipeline(\n",
        "                df, point[0], point[1], split_date, forecast_horizon=1, \n",
        "                regressor=regressor\n",
        "            )\n",
        "            self.pipeline_list.append(pipeline)\n",
        "\n",
        "\n",
        "        for pipeline in self.pipeline_list:\n",
        "            pipeline.window = 24\n",
        "            pipeline.subserie_dtw = SubserieDTW(\n",
        "                pipeline.df, pipeline.lat, pipeline.lon, pipeline.split_date,\n",
        "                window=pipeline.window, forecast_horizon=pipeline.forecast_horizon)\n",
        "\n",
        "            pipeline.subserie_dtw.get_all_subseries()\n",
        "        \n",
        "        # self.pipeline_list = [y for x in self.pipeline_list for y in (x,)*10]\n",
        "        # random.shuffle(self.pipeline_list)\n",
        "\n",
        "    def fit(self):\n",
        "        _, y_train = self.pipeline_list[0].subserie_dtw.get_train(1)\n",
        "        rmse_error = 100\n",
        "        residuals_at_iteration = []\n",
        "        residuals = y_train\n",
        "        it = 0\n",
        "        y_true = self.get_y_true()\n",
        "\n",
        "        print('FITTING')\n",
        "        for pipeline in self.pipeline_list:\n",
        "            self.predict_pipeline_list.append(pipeline)\n",
        "            learning_rate = 1 if it == 0 else self.learning_rate\n",
        "            x_train, _ = pipeline.subserie_dtw.get_train(1)\n",
        "            pipeline.fit(x_train, residuals)\n",
        "            y_train_predicted = pipeline.predict(x_train)\n",
        "\n",
        "\n",
        "            # early stopping\n",
        "            y_pred = self.predict()\n",
        "            rmse_error = SSTHelper.rmse(y_true, y_pred)\n",
        "\n",
        "            if it != 0 and (residuals_at_iteration[-1] - rmse_error) < 0:\n",
        "                # self.predict_pipeline_list.pop()\n",
        "                # gradient\n",
        "                print('Weak tree')\n",
        "                # break\n",
        "            else:\n",
        "                residuals += y_train_predicted * -1 * learning_rate\n",
        "                residuals_at_iteration.append(rmse_error)\n",
        "            it += 1\n",
        "            \n",
        "        print(f'mean of residuals: {residuals_at_iteration}')\n",
        "\n",
        "    def predict(self):\n",
        "        total_y_pred = []\n",
        "        it = 0\n",
        "        for pipeline in self.predict_pipeline_list:\n",
        "            learning_rate = 1 if it == 0 else self.learning_rate\n",
        "\n",
        "            x_test, _ = pipeline.subserie_dtw.get_test(self.horizon)\n",
        "            x_test = x_test[0]\n",
        "\n",
        "            for _ in range(self.horizon):\n",
        "                y_pred = pipeline.predict(x_test.reshape(1, -1))\n",
        "                x_test = np.append(x_test, y_pred[0])\n",
        "                x_test = x_test[1:]\n",
        "\n",
        "            y_pred = x_test[-self.horizon:]\n",
        "            if it == 0:\n",
        "                total_y_pred = y_pred\n",
        "            else:\n",
        "                total_y_pred += y_pred * learning_rate\n",
        "            it += 1\n",
        "\n",
        "        return total_y_pred\n",
        "\n",
        "    def get_y_true(self):\n",
        "        _, y_true = self.pipeline_list[0].subserie_dtw.get_test(self.horizon)\n",
        "        return y_true"
      ]
    },
    {
      "cell_type": "code",
      "execution_count": 342,
      "metadata": {
        "id": "MUUM46eHmQKE",
        "outputId": "e2e6d5a9-4667-41db-ffaf-03b3d818a6fe"
      },
      "outputs": [
        {
          "name": "stdout",
          "output_type": "stream",
          "text": [
            "FITTING\n",
            "Weak tree\n",
            "Weak tree\n",
            "Weak tree\n",
            "Weak tree\n",
            "Weak tree\n",
            "Weak tree\n",
            "Weak tree\n",
            "Weak tree\n",
            "Weak tree\n",
            "Weak tree\n",
            "Weak tree\n",
            "Weak tree\n",
            "Weak tree\n",
            "Weak tree\n",
            "Weak tree\n",
            "Weak tree\n",
            "Weak tree\n",
            "Weak tree\n",
            "Weak tree\n",
            "Weak tree\n",
            "Weak tree\n",
            "Weak tree\n",
            "Weak tree\n",
            "Weak tree\n",
            "Weak tree\n",
            "Weak tree\n",
            "Weak tree\n",
            "Weak tree\n",
            "Weak tree\n",
            "Weak tree\n",
            "Weak tree\n",
            "Weak tree\n",
            "Weak tree\n",
            "Weak tree\n",
            "Weak tree\n",
            "Weak tree\n",
            "Weak tree\n",
            "Weak tree\n",
            "Weak tree\n",
            "Weak tree\n",
            "Weak tree\n",
            "Weak tree\n",
            "Weak tree\n",
            "Weak tree\n",
            "Weak tree\n",
            "Weak tree\n",
            "Weak tree\n",
            "Weak tree\n",
            "Weak tree\n",
            "Weak tree\n",
            "Weak tree\n",
            "Weak tree\n",
            "Weak tree\n",
            "Weak tree\n",
            "Weak tree\n",
            "Weak tree\n",
            "Weak tree\n",
            "Weak tree\n",
            "Weak tree\n",
            "Weak tree\n",
            "Weak tree\n",
            "Weak tree\n",
            "Weak tree\n",
            "Weak tree\n",
            "Weak tree\n",
            "Weak tree\n",
            "Weak tree\n",
            "Weak tree\n",
            "Weak tree\n",
            "Weak tree\n",
            "Weak tree\n",
            "Weak tree\n",
            "Weak tree\n",
            "Weak tree\n",
            "Weak tree\n",
            "Weak tree\n",
            "Weak tree\n",
            "Weak tree\n",
            "Weak tree\n",
            "Weak tree\n",
            "Weak tree\n",
            "Weak tree\n",
            "Weak tree\n",
            "mean of residuals: [0.03615683807174643, 0.03602300532099751, 0.03589133979326797, 0.03576180845829594, 0.03563439048586355, 0.035518544430157145, 0.035395199296395834, 0.03528332757228398, 0.03516394643514396, 0.03505594129277681, 0.03494042635322477, 0.03483617467440199, 0.03472441289286032, 0.03462381640711152, 0.03451571645666295, 0.034418672148461664, 0.03431412450155477, 0.03420318579145565, 0.0341106347369323]\n"
          ]
        }
      ],
      "source": [
        "rmse_list = []\n",
        "mape_list = []\n",
        "for point in (list_points[:1]):\n",
        "    gb = GradientBoosting(point, [p for p in list_points if p != point], 12, 0.01)\n",
        "    gb.fit()\n",
        "    y_pred = gb.predict()\n",
        "    y_pred = scaler.inverse_transform([y_pred])\n",
        "    y_true = gb.get_y_true()\n",
        "    y_true = scaler.inverse_transform([y_true])\n",
        "    rmse_list.append(SSTHelper.rmse(y_pred, y_true))\n",
        "    mape_list.append(SSTHelper.mape(y_pred, y_true))"
      ]
    },
    {
      "cell_type": "code",
      "execution_count": 343,
      "metadata": {
        "id": "KS-UrL2mmQKE",
        "outputId": "d554023c-2b69-46ff-fe30-72c34f37cfb3"
      },
      "outputs": [
        {
          "data": {
            "image/png": "[encoded data removed]",
            "text/plain": [
              "<Figure size 1500x250 with 1 Axes>"
            ]
          },
          "metadata": {},
          "output_type": "display_data"
        },
        {
          "name": "stdout",
          "output_type": "stream",
          "text": [
            "0.2570626057795599\n",
            "1.6111199649245422\n"
          ]
        }
      ],
      "source": [
        "SSTHelper.default_plot(y_true[0], y_pred[0], 'Point', 'Sequential')\n",
        "print(SSTHelper.mape(y_pred, y_true))\n",
        "print(SSTHelper.rmse(y_pred, y_true))"
      ]
    },
    {
      "cell_type": "code",
      "execution_count": 321,
      "metadata": {},
      "outputs": [],
      "source": [
        "results_df = pd.DataFrame([rmse_list, mape_list]).T\n",
        "results_df.rename({0: 'rmse', 1: 'mape'}, axis=1).to_csv('../dados/boosting_results.csv')"
      ]
    },
    {
      "cell_type": "code",
      "execution_count": 322,
      "metadata": {},
      "outputs": [
        {
          "data": {
            "text/html": [
              "<div>\n",
              "<style scoped>\n",
              "    .dataframe tbody tr th:only-of-type {\n",
              "        vertical-align: middle;\n",
              "    }\n",
              "\n",
              "    .dataframe tbody tr th {\n",
              "        vertical-align: top;\n",
              "    }\n",
              "\n",
              "    .dataframe thead th {\n",
              "        text-align: right;\n",
              "    }\n",
              "</style>\n",
              "<table border=\"1\" class=\"dataframe\">\n",
              "  <thead>\n",
              "    <tr style=\"text-align: right;\">\n",
              "      <th></th>\n",
              "      <th>0</th>\n",
              "      <th>1</th>\n",
              "    </tr>\n",
              "  </thead>\n",
              "  <tbody>\n",
              "    <tr>\n",
              "      <th>0</th>\n",
              "      <td>0.641591</td>\n",
              "      <td>0.086723</td>\n",
              "    </tr>\n",
              "    <tr>\n",
              "      <th>1</th>\n",
              "      <td>1.323831</td>\n",
              "      <td>0.049598</td>\n",
              "    </tr>\n",
              "    <tr>\n",
              "      <th>2</th>\n",
              "      <td>0.000000</td>\n",
              "      <td>0.000000</td>\n",
              "    </tr>\n",
              "    <tr>\n",
              "      <th>3</th>\n",
              "      <td>0.340995</td>\n",
              "      <td>0.812411</td>\n",
              "    </tr>\n",
              "    <tr>\n",
              "      <th>4</th>\n",
              "      <td>0.177373</td>\n",
              "      <td>0.245675</td>\n",
              "    </tr>\n",
              "    <tr>\n",
              "      <th>...</th>\n",
              "      <td>...</td>\n",
              "      <td>...</td>\n",
              "    </tr>\n",
              "    <tr>\n",
              "      <th>95</th>\n",
              "      <td>0.258522</td>\n",
              "      <td>0.273140</td>\n",
              "    </tr>\n",
              "    <tr>\n",
              "      <th>96</th>\n",
              "      <td>0.909117</td>\n",
              "      <td>0.035976</td>\n",
              "    </tr>\n",
              "    <tr>\n",
              "      <th>97</th>\n",
              "      <td>0.255392</td>\n",
              "      <td>0.007085</td>\n",
              "    </tr>\n",
              "    <tr>\n",
              "      <th>98</th>\n",
              "      <td>1.485365</td>\n",
              "      <td>0.065057</td>\n",
              "    </tr>\n",
              "    <tr>\n",
              "      <th>99</th>\n",
              "      <td>0.486942</td>\n",
              "      <td>0.015948</td>\n",
              "    </tr>\n",
              "  </tbody>\n",
              "</table>\n",
              "<p>100 rows × 2 columns</p>\n",
              "</div>"
            ],
            "text/plain": [
              "           0         1\n",
              "0   0.641591  0.086723\n",
              "1   1.323831  0.049598\n",
              "2   0.000000  0.000000\n",
              "3   0.340995  0.812411\n",
              "4   0.177373  0.245675\n",
              "..       ...       ...\n",
              "95  0.258522  0.273140\n",
              "96  0.909117  0.035976\n",
              "97  0.255392  0.007085\n",
              "98  1.485365  0.065057\n",
              "99  0.486942  0.015948\n",
              "\n",
              "[100 rows x 2 columns]"
            ]
          },
          "execution_count": 322,
          "metadata": {},
          "output_type": "execute_result"
        }
      ],
      "source": [
        "results_df"
      ]
    },
    {
      "cell_type": "code",
      "execution_count": null,
      "metadata": {
        "id": "glypp-DNmQKF",
        "outputId": "65b9d7a0-59c0-419e-bb0f-a9afd0ff5910"
      },
      "outputs": [
        {
          "name": "stdout",
          "output_type": "stream",
          "text": [
            "5.578203140704556\n",
            "22.28029224291492\n",
            "-1.7899999618530273\n",
            "-0.842534006420793\n",
            "-1.2362103271510374\n"
          ]
        }
      ],
      "source": [
        "pipeline_list = []\n",
        "residuals = []\n",
        "\n",
        "for point in list_points[:5]:\n",
        "    pipeline = DSPipeline(df, point[0], point[1], split_date, forecast_horizon=1)\n",
        "    pipeline.window = 24\n",
        "    pipeline.subserie_dtw = SubserieDTW(\n",
        "        pipeline.df, pipeline.lat, pipeline.lon, pipeline.split_date,\n",
        "        window=pipeline.window, forecast_horizon=pipeline.forecast_horizon)\n",
        "\n",
        "    pipeline.subserie_dtw.get_all_subseries()\n",
        "    pipeline.x_train, pipeline.y_train = pipeline.subserie_dtw.get_train(1)\n",
        "    pipeline.fit()\n",
        "    residuals.append(pipeline.predict(pipeline.x_train))\n",
        "\n",
        "    print(np.mean(residuals[-1]))"
      ]
    },
    {
      "cell_type": "code",
      "execution_count": null,
      "metadata": {
        "id": "9JcWo0EamQKF",
        "outputId": "dceedd9a-f84b-4e9d-e50f-60e0c59afd35"
      },
      "outputs": [
        {
          "name": "stdout",
          "output_type": "stream",
          "text": [
            "[24.35000038 23.6099987  22.04999924 19.65999985 18.60000038 17.10000038\n",
            " 16.63999939 16.43000031 16.60000038 18.29999924 20.69999886 22.6099987\n",
            " 23.18999863 23.20999908 21.40999985 19.80999947 17.77999878 16.63999939\n",
            " 15.71999931 15.27999973 16.55999947 18.10000038 20.37999916 22.37661327]\n",
            "[23.6099987  22.04999924 19.65999985 18.60000038 17.10000038 16.63999939\n",
            " 16.43000031 16.60000038 18.29999924 20.69999886 22.6099987  23.18999863\n",
            " 23.20999908 21.40999985 19.80999947 17.77999878 16.63999939 15.71999931\n",
            " 15.27999973 16.55999947 18.10000038 20.37999916 22.37661327 23.53963256]\n",
            "[22.04999924 19.65999985 18.60000038 17.10000038 16.63999939 16.43000031\n",
            " 16.60000038 18.29999924 20.69999886 22.6099987  23.18999863 23.20999908\n",
            " 21.40999985 19.80999947 17.77999878 16.63999939 15.71999931 15.27999973\n",
            " 16.55999947 18.10000038 20.37999916 22.37661327 23.53963256 22.94979503]\n",
            "[19.65999985 18.60000038 17.10000038 16.63999939 16.43000031 16.60000038\n",
            " 18.29999924 20.69999886 22.6099987  23.18999863 23.20999908 21.40999985\n",
            " 19.80999947 17.77999878 16.63999939 15.71999931 15.27999973 16.55999947\n",
            " 18.10000038 20.37999916 22.37661327 23.53963256 22.94979503 21.23605309]\n",
            "[18.60000038 17.10000038 16.63999939 16.43000031 16.60000038 18.29999924\n",
            " 20.69999886 22.6099987  23.18999863 23.20999908 21.40999985 19.80999947\n",
            " 17.77999878 16.63999939 15.71999931 15.27999973 16.55999947 18.10000038\n",
            " 20.37999916 22.37661327 23.53963256 22.94979503 21.23605309 19.72429612]\n",
            "[17.10000038 16.63999939 16.43000031 16.60000038 18.29999924 20.69999886\n",
            " 22.6099987  23.18999863 23.20999908 21.40999985 19.80999947 17.77999878\n",
            " 16.63999939 15.71999931 15.27999973 16.55999947 18.10000038 20.37999916\n",
            " 22.37661327 23.53963256 22.94979503 21.23605309 19.72429612 18.43722149]\n",
            "[16.63999939 16.43000031 16.60000038 18.29999924 20.69999886 22.6099987\n",
            " 23.18999863 23.20999908 21.40999985 19.80999947 17.77999878 16.63999939\n",
            " 15.71999931 15.27999973 16.55999947 18.10000038 20.37999916 22.37661327\n",
            " 23.53963256 22.94979503 21.23605309 19.72429612 18.43722149 17.17788952]\n",
            "[16.43000031 16.60000038 18.29999924 20.69999886 22.6099987  23.18999863\n",
            " 23.20999908 21.40999985 19.80999947 17.77999878 16.63999939 15.71999931\n",
            " 15.27999973 16.55999947 18.10000038 20.37999916 22.37661327 23.53963256\n",
            " 22.94979503 21.23605309 19.72429612 18.43722149 17.17788952 16.45673685]\n",
            "[16.60000038 18.29999924 20.69999886 22.6099987  23.18999863 23.20999908\n",
            " 21.40999985 19.80999947 17.77999878 16.63999939 15.71999931 15.27999973\n",
            " 16.55999947 18.10000038 20.37999916 22.37661327 23.53963256 22.94979503\n",
            " 21.23605309 19.72429612 18.43722149 17.17788952 16.45673685 16.50222387]\n",
            "[18.29999924 20.69999886 22.6099987  23.18999863 23.20999908 21.40999985\n",
            " 19.80999947 17.77999878 16.63999939 15.71999931 15.27999973 16.55999947\n",
            " 18.10000038 20.37999916 22.37661327 23.53963256 22.94979503 21.23605309\n",
            " 19.72429612 18.43722149 17.17788952 16.45673685 16.50222387 17.30620279]\n",
            "[20.69999886 22.6099987  23.18999863 23.20999908 21.40999985 19.80999947\n",
            " 17.77999878 16.63999939 15.71999931 15.27999973 16.55999947 18.10000038\n",
            " 20.37999916 22.37661327 23.53963256 22.94979503 21.23605309 19.72429612\n",
            " 18.43722149 17.17788952 16.45673685 16.50222387 17.30620279 18.60550139]\n",
            "[22.6099987  23.18999863 23.20999908 21.40999985 19.80999947 17.77999878\n",
            " 16.63999939 15.71999931 15.27999973 16.55999947 18.10000038 20.37999916\n",
            " 22.37661327 23.53963256 22.94979503 21.23605309 19.72429612 18.43722149\n",
            " 17.17788952 16.45673685 16.50222387 17.30620279 18.60550139 20.39227534]\n"
          ]
        },
        {
          "data": {
            "image/png": "[encoded data removed]",
            "text/plain": [
              "<Figure size 1500x250 with 1 Axes>"
            ]
          },
          "metadata": {},
          "output_type": "display_data"
        }
      ],
      "source": [
        "horizon = 12\n",
        "indi_pipeline = DSPipeline(df, -22, -72, split_date, forecast_horizon=1)\n",
        "residuals = indi_pipeline.make_pipeline(1, 1.0)\n",
        "_, y_true = indi_pipeline.subserie_dtw.get_test(horizon)\n",
        "x_test = indi_pipeline.x_test[0].reshape(1, -1)\n",
        "\n",
        "for i in range(horizon):\n",
        "    y_pred = indi_pipeline.predict(x_test.reshape(1, -1))\n",
        "    x_test = np.append(x_test, y_pred[0])\n",
        "    x_test = x_test[1:]\n",
        "    print(x_test)\n",
        "    \n",
        "\n",
        "y_pred = x_test[-horizon:]\n",
        "SSTHelper.default_plot(y_pred, y_true, 'CHILE - SVR', 'SVR')\n"
      ]
    },
    {
      "cell_type": "code",
      "execution_count": null,
      "metadata": {
        "id": "roXJIDVImQKG"
      },
      "outputs": [],
      "source": []
    }
  ],
  "metadata": {
    "colab": {
      "provenance": []
    },
    "kernelspec": {
      "display_name": "Python 3 (ipykernel)",
      "language": "python",
      "name": "python3"
    },
    "language_info": {
      "codemirror_mode": {
        "name": "ipython",
        "version": 3
      },
      "file_extension": ".py",
      "mimetype": "text/x-python",
      "name": "python",
      "nbconvert_exporter": "python",
      "pygments_lexer": "ipython3",
      "version": "3.10.12"
    }
  },
  "nbformat": 4,
  "nbformat_minor": 0
}
