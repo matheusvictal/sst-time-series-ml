{
 "cells": [
  {
   "cell_type": "code",
   "execution_count": 236,
   "metadata": {},
   "outputs": [
    {
     "name": "stdout",
     "output_type": "stream",
     "text": [
      "The autoreload extension is already loaded. To reload it, use:\n",
      "  %reload_ext autoreload\n"
     ]
    }
   ],
   "source": [
    "%load_ext autoreload\n",
    "%autoreload 2"
   ]
  },
  {
   "cell_type": "code",
   "execution_count": 237,
   "metadata": {},
   "outputs": [],
   "source": [
    "import numpy as np\n",
    "import netCDF4 as nc\n",
    "import xarray as xr\n",
    "import numpy as np\n",
    "import netCDF4 as nc\n",
    "from mpl_toolkits.basemap import Basemap\n",
    "from mpl_toolkits.basemap import shiftgrid\n",
    "import matplotlib.pyplot as plt\n",
    "import pandas as pd\n",
    "from dtw import *\n",
    "from tqdm import tqdm\n",
    "from sklearn.preprocessing import MinMaxScaler\n",
    "from sklearn.linear_model import SGDRegressor\n",
    "from netuno import SSTHelper, SubserieDTW\n",
    "from sklearn.multioutput import MultiOutputRegressor"
   ]
  },
  {
   "cell_type": "code",
   "execution_count": 238,
   "metadata": {},
   "outputs": [],
   "source": [
    "f_inv = lambda x: x + 180\n",
    "f = lambda x: ((x+180) % 360) - 180"
   ]
  },
  {
   "cell_type": "code",
   "execution_count": 286,
   "metadata": {},
   "outputs": [],
   "source": [
    "fp = '../dados/sst.mnmean.nc'\n",
    "ds = SSTHelper.load_dataset(fp)\n",
    "df = SSTHelper.load_dataframe(ds)"
   ]
  },
  {
   "cell_type": "markdown",
   "metadata": {},
   "source": [
    "## Obtendo 5 pontos no mar\n",
    "* Um ponto na região do ENSO;\n",
    " -> lat = 20°, lon = -132° (https://www.google.com.br/maps/place/20%C2%B000'00.0%22N+132%C2%B000'00.0%22W/@22.1775213,-151.1364928,3.87z/data=!4m4!3m3!8m2!3d20!4d-132?entry=ttu)\n",
    "\n",
    "* Um ponto na costa do Chile (Corrente de Humboldt);\n",
    " -> lat = -22°, lon = -72° (https://www.google.com.br/maps/place/22%C2%B000'00.0%22S+72%C2%B000'00.0%22W/@-21.7898533,-87.474343,4.04z/data=!4m4!3m3!8m2!3d-22!4d-72?entry=ttu)\n",
    "\n",
    "* Um ponto no meio do Mediterrâneo;\n",
    " -> lat = 36°, lon = 18° (https://www.google.com.br/maps/place/36%C2%B000'00.0%22N+18%C2%B000'00.0%22E/@36.0000043,17.9974251,17z/data=!3m1!4b1!4m4!3m3!8m2!3d36!4d18?entry=ttu)\n",
    "\n",
    "* Um ponto no meio do Atlântico;\n",
    " -> lat = 0°, lon = -22° (https://www.google.com.br/maps/place/0%C2%B000'00.0%22N+22%C2%B000'00.0%22W/@-11.0144452,-50.6148726,3z/data=!4m3!3m2!8m1!4d-22?entry=ttu)\n",
    "\n",
    "* Um ponto no extremo Índico (ponto de maior latitude, temperaturas mais baixas)\n",
    " -> lat = -56°, lon = 80° (https://www.google.com.br/maps/place/56%C2%B000'00.0%22S+80%C2%B000'00.0%22E/@-36.027701,54.6888129,3z/data=!4m4!3m3!8m2!3d-56!4d80?entry=ttu)"
   ]
  },
  {
   "cell_type": "code",
   "execution_count": null,
   "metadata": {},
   "outputs": [
    {
     "name": "stdout",
     "output_type": "stream",
     "text": [
      "Initializing\n",
      "Lat: -22, Lon: 108\n",
      "Total length: 2038\n",
      "1405 585\n",
      "Train/test proportion: 0.6894013738959764/0.28704612365063786\n",
      "Initializing\n",
      "Lat: 36, Lon: 198\n",
      "Total length: 2038\n",
      "1405 585\n",
      "Train/test proportion: 0.6894013738959764/0.28704612365063786\n",
      "Initializing\n",
      "Lat: 0, Lon: 178\n",
      "Total length: 2038\n",
      "1405 585\n",
      "Train/test proportion: 0.6894013738959764/0.28704612365063786\n",
      "Initializing\n",
      "Lat: -56, Lon: 100\n",
      "Total length: 2038\n",
      "1405 585\n",
      "Train/test proportion: 0.6894013738959764/0.28704612365063786\n"
     ]
    }
   ],
   "source": [
    "# enso = SubserieDTW(df, 20, f_inv(-132), 1500, 48)\n",
    "split_date = '1975-01-01'\n",
    "\n",
    "chil = SubserieDTW(df, -22, f_inv(-72), split_date, forecast_horizon=5)\n",
    "medi = SubserieDTW(df, 36, f_inv(18), split_date, forecast_horizon=5)\n",
    "atla = SubserieDTW(df, 0, f_inv(-2), split_date, forecast_horizon=5)\n",
    "\n",
    "indi = SubserieDTW(df, -56, f_inv(-80), split_date, forecast_horizon=5)"
   ]
  },
  {
   "cell_type": "markdown",
   "metadata": {},
   "source": [
    "### DS (Dynamic time warping + Support vector regression)\n",
    "Implementando a técnica de forecasting apresentada pelo artigo [Improved Particle Swarm Optimization for Sea Surface Temperature Prediction](https://www.mdpi.com/1996-1073/13/6/1369) nomeada DS. Nesse algoritmo, para prever as próximas $x$ observações pegamos a janela referente as últimas observações que possuímos e procuramos subséries anteriores de mesmo tamanho utilizando DTW. Então, utilizamos as subséries mais próximas e as respectivas próximas $x$ observações encontradas para treinar um SVR."
   ]
  },
  {
   "cell_type": "markdown",
   "metadata": {},
   "source": [
    "### Queremos predizer a série em '?'\n",
    "![img1](../resources/img1.png)\n",
    "### Pegamos a janela mais próxima de tamanho $n$ e comparamos com a série em azul\n",
    "![img2](../resources/img2.png)\n",
    "### Pegamos as subséries mais próximas (x) e as próximas observações (y)\n",
    "![img3](../resources/img3.png)\n",
    "### Treinamos um modelo regressor (SVR) para predizer os próximos valores utilizando x,y\n",
    "![img4](../resources/img4.png)"
   ]
  },
  {
   "cell_type": "code",
   "execution_count": 296,
   "metadata": {},
   "outputs": [],
   "source": [
    "from netuno import DSPipeline"
   ]
  },
  {
   "cell_type": "code",
   "execution_count": 302,
   "metadata": {},
   "outputs": [
    {
     "name": "stdout",
     "output_type": "stream",
     "text": [
      "Initializing\n",
      "Lat: -56, Lon: 100\n",
      "Total length: 2038\n",
      "1405 585\n",
      "Train/test proportion: 0.6894013738959764/0.28704612365063786\n"
     ]
    },
    {
     "name": "stderr",
     "output_type": "stream",
     "text": [
      "  0%|          | 0/1309 [00:00<?, ?it/s]"
     ]
    },
    {
     "name": "stderr",
     "output_type": "stream",
     "text": [
      "100%|██████████| 1309/1309 [00:02<00:00, 479.51it/s]\n"
     ]
    },
    {
     "name": "stdout",
     "output_type": "stream",
     "text": [
      "Obtained 1309 subseries\n"
     ]
    },
    {
     "data": {
      "text/plain": [
       "0.3764009720472507"
      ]
     },
     "execution_count": 302,
     "metadata": {},
     "output_type": "execute_result"
    }
   ],
   "source": [
    "pipeline = DSPipeline(df, -56, f_inv(-80), split_date, forecast_horizon=5)\n",
    "pipeline.make_pipeline()"
   ]
  },
  {
   "cell_type": "code",
   "execution_count": 298,
   "metadata": {},
   "outputs": [],
   "source": [
    "%%capture\n",
    "pipeline.optimize() "
   ]
  },
  {
   "cell_type": "code",
   "execution_count": null,
   "metadata": {},
   "outputs": [],
   "source": [
    "p1, p2 = pipeline.optimization_results()"
   ]
  },
  {
   "cell_type": "code",
   "execution_count": 304,
   "metadata": {},
   "outputs": [
    {
     "name": "stdout",
     "output_type": "stream",
     "text": [
      "Initializing\n",
      "Lat: -56, Lon: 100\n",
      "Total length: 2038\n",
      "1405 585\n",
      "Train/test proportion: 0.6894013738959764/0.28704612365063786\n"
     ]
    },
    {
     "name": "stderr",
     "output_type": "stream",
     "text": [
      "  0%|          | 0/1309 [00:00<?, ?it/s]"
     ]
    },
    {
     "name": "stderr",
     "output_type": "stream",
     "text": [
      "100%|██████████| 1309/1309 [00:03<00:00, 431.65it/s]\n"
     ]
    },
    {
     "name": "stdout",
     "output_type": "stream",
     "text": [
      "Obtained 1309 subseries\n",
      "RMSE:  0.36454396787344673\n"
     ]
    },
    {
     "data": {
      "image/png": "[encoded data removed]",
      "text/plain": [
       "<Figure size 1500x600 with 1 Axes>"
      ]
     },
     "metadata": {},
     "output_type": "display_data"
    }
   ],
   "source": [
    "print(\"RMSE: \", pipeline.make_pipeline(1.0, 0.15))\n",
    "pipeline.plot_predict()"
   ]
  },
  {
   "cell_type": "code",
   "execution_count": 305,
   "metadata": {},
   "outputs": [
    {
     "name": "stdout",
     "output_type": "stream",
     "text": [
      "Initializing\n",
      "Lat: -22, Lon: 108\n",
      "Total length: 2038\n",
      "1405 585\n",
      "Train/test proportion: 0.6894013738959764/0.28704612365063786\n"
     ]
    },
    {
     "name": "stderr",
     "output_type": "stream",
     "text": [
      "100%|██████████| 1309/1309 [00:03<00:00, 377.91it/s]\n"
     ]
    },
    {
     "name": "stdout",
     "output_type": "stream",
     "text": [
      "Obtained 1309 subseries\n",
      "RMSE:  21170797534481.613\n",
      "Initializing\n",
      "Lat: 36, Lon: 198\n",
      "Total length: 2038\n",
      "1405 585\n",
      "Train/test proportion: 0.6894013738959764/0.28704612365063786\n"
     ]
    },
    {
     "name": "stderr",
     "output_type": "stream",
     "text": [
      "100%|██████████| 1309/1309 [00:02<00:00, 445.23it/s]\n"
     ]
    },
    {
     "name": "stdout",
     "output_type": "stream",
     "text": [
      "Obtained 1309 subseries\n",
      "RMSE:  8151517072636.796\n",
      "Initializing\n",
      "Lat: 0, Lon: 178\n",
      "Total length: 2038\n",
      "1405 585\n",
      "Train/test proportion: 0.6894013738959764/0.28704612365063786\n"
     ]
    },
    {
     "name": "stderr",
     "output_type": "stream",
     "text": [
      "100%|██████████| 1309/1309 [00:03<00:00, 393.81it/s]\n"
     ]
    },
    {
     "name": "stdout",
     "output_type": "stream",
     "text": [
      "Obtained 1309 subseries\n",
      "RMSE:  19261275539436.21\n"
     ]
    }
   ],
   "source": [
    "pipeline1 = DSPipeline(df, -22, f_inv(-72), split_date, forecast_horizon=5)\n",
    "print(\"RMSE: \", pipeline1.make_pipeline(1.0, 0.15))\n",
    "\n",
    "pipeline2 = DSPipeline(df, 36, f_inv(18), split_date, forecast_horizon=5)\n",
    "print(\"RMSE: \", pipeline2.make_pipeline(1.0, 0.15))\n",
    "\n",
    "pipeline3 = DSPipeline(df, 0, f_inv(-2), split_date, forecast_horizon=5)\n",
    "print(\"RMSE: \", pipeline3.make_pipeline(1.0, 0.15))\n"
   ]
  },
  {
   "cell_type": "code",
   "execution_count": null,
   "metadata": {},
   "outputs": [],
   "source": []
  }
 ],
 "metadata": {
  "kernelspec": {
   "display_name": "venv",
   "language": "python",
   "name": "python3"
  },
  "language_info": {
   "codemirror_mode": {
    "name": "ipython",
    "version": 3
   },
   "file_extension": ".py",
   "mimetype": "text/x-python",
   "name": "python",
   "nbconvert_exporter": "python",
   "pygments_lexer": "ipython3",
   "version": "3.11.5"
  },
  "orig_nbformat": 4
 },
 "nbformat": 4,
 "nbformat_minor": 2
}
