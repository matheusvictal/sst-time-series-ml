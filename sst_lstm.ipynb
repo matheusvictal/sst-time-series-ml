{
 "cells": [
  {
   "cell_type": "markdown",
   "metadata": {},
   "source": [
    "## Long Short-Term Memory  "
   ]
  },
  {
   "cell_type": "code",
   "execution_count": 1,
   "metadata": {},
   "outputs": [],
   "source": [
    "#%%time"
   ]
  },
  {
   "cell_type": "code",
   "execution_count": 2,
   "metadata": {},
   "outputs": [],
   "source": [
    "from sklearn.preprocessing import MinMaxScaler\n",
    "import torch\n",
    "import numpy as np\n",
    "import torch.nn as nn\n",
    "import math\n",
    "from sklearn.metrics import mean_squared_error\n",
    "import numpy as np\n",
    "import seaborn as sns\n",
    "import netCDF4 as nc\n",
    "import xarray as xr\n",
    "from mpl_toolkits.basemap import Basemap\n",
    "from mpl_toolkits.basemap import shiftgrid\n",
    "import matplotlib.pyplot as plt\n",
    "import pandas as pd"
   ]
  },
  {
   "cell_type": "code",
   "execution_count": 3,
   "metadata": {},
   "outputs": [
    {
     "name": "stdout",
     "output_type": "stream",
     "text": [
      "Importing the dtw module. When using in academic works please cite:\n",
      "  T. Giorgino. Computing and Visualizing Dynamic Time Warping Alignments in R: The dtw Package.\n",
      "  J. Stat. Soft., doi:10.18637/jss.v031.i07.\n",
      "\n"
     ]
    }
   ],
   "source": [
    "from source.netuno.sst_helper import SSTHelper"
   ]
  },
  {
   "cell_type": "code",
   "execution_count": 4,
   "metadata": {},
   "outputs": [],
   "source": [
    "fp = 'dados/sst.mnmean.nc'"
   ]
  },
  {
   "cell_type": "code",
   "execution_count": 5,
   "metadata": {},
   "outputs": [],
   "source": [
    "ds = SSTHelper.load_dataset(fp)\n",
    "df = SSTHelper.load_dataframe(ds)"
   ]
  },
  {
   "cell_type": "code",
   "execution_count": 6,
   "metadata": {},
   "outputs": [
    {
     "data": {
      "text/html": [
       "<div>\n",
       "<style scoped>\n",
       "    .dataframe tbody tr th:only-of-type {\n",
       "        vertical-align: middle;\n",
       "    }\n",
       "\n",
       "    .dataframe tbody tr th {\n",
       "        vertical-align: top;\n",
       "    }\n",
       "\n",
       "    .dataframe thead th {\n",
       "        text-align: right;\n",
       "    }\n",
       "</style>\n",
       "<table border=\"1\" class=\"dataframe\">\n",
       "  <thead>\n",
       "    <tr style=\"text-align: right;\">\n",
       "      <th></th>\n",
       "      <th>lat</th>\n",
       "      <th>lon</th>\n",
       "      <th>time</th>\n",
       "      <th>nbnds</th>\n",
       "      <th>time_bnds</th>\n",
       "      <th>sst</th>\n",
       "    </tr>\n",
       "  </thead>\n",
       "  <tbody>\n",
       "    <tr>\n",
       "      <th>0</th>\n",
       "      <td>88.0</td>\n",
       "      <td>0.0</td>\n",
       "      <td>1854-01-01</td>\n",
       "      <td>0</td>\n",
       "      <td>9.969210e+36</td>\n",
       "      <td>-1.8</td>\n",
       "    </tr>\n",
       "    <tr>\n",
       "      <th>2</th>\n",
       "      <td>88.0</td>\n",
       "      <td>0.0</td>\n",
       "      <td>1854-02-01</td>\n",
       "      <td>0</td>\n",
       "      <td>9.969210e+36</td>\n",
       "      <td>-1.8</td>\n",
       "    </tr>\n",
       "    <tr>\n",
       "      <th>4</th>\n",
       "      <td>88.0</td>\n",
       "      <td>0.0</td>\n",
       "      <td>1854-03-01</td>\n",
       "      <td>0</td>\n",
       "      <td>9.969210e+36</td>\n",
       "      <td>-1.8</td>\n",
       "    </tr>\n",
       "    <tr>\n",
       "      <th>6</th>\n",
       "      <td>88.0</td>\n",
       "      <td>0.0</td>\n",
       "      <td>1854-04-01</td>\n",
       "      <td>0</td>\n",
       "      <td>9.969210e+36</td>\n",
       "      <td>-1.8</td>\n",
       "    </tr>\n",
       "    <tr>\n",
       "      <th>8</th>\n",
       "      <td>88.0</td>\n",
       "      <td>0.0</td>\n",
       "      <td>1854-05-01</td>\n",
       "      <td>0</td>\n",
       "      <td>9.969210e+36</td>\n",
       "      <td>-1.8</td>\n",
       "    </tr>\n",
       "  </tbody>\n",
       "</table>\n",
       "</div>"
      ],
      "text/plain": [
       "    lat  lon       time  nbnds     time_bnds  sst\n",
       "0  88.0  0.0 1854-01-01      0  9.969210e+36 -1.8\n",
       "2  88.0  0.0 1854-02-01      0  9.969210e+36 -1.8\n",
       "4  88.0  0.0 1854-03-01      0  9.969210e+36 -1.8\n",
       "6  88.0  0.0 1854-04-01      0  9.969210e+36 -1.8\n",
       "8  88.0  0.0 1854-05-01      0  9.969210e+36 -1.8"
      ]
     },
     "execution_count": 6,
     "metadata": {},
     "output_type": "execute_result"
    }
   ],
   "source": [
    "df.head()"
   ]
  },
  {
   "cell_type": "code",
   "execution_count": 7,
   "metadata": {},
   "outputs": [],
   "source": [
    "f = lambda x: ((x+180) % 360) - 180"
   ]
  },
  {
   "cell_type": "code",
   "execution_count": 8,
   "metadata": {},
   "outputs": [],
   "source": [
    "df['lon'] = df['lon'].copy().apply(f)"
   ]
  },
  {
   "cell_type": "code",
   "execution_count": 9,
   "metadata": {},
   "outputs": [
    {
     "data": {
      "text/html": [
       "<div>\n",
       "<style scoped>\n",
       "    .dataframe tbody tr th:only-of-type {\n",
       "        vertical-align: middle;\n",
       "    }\n",
       "\n",
       "    .dataframe tbody tr th {\n",
       "        vertical-align: top;\n",
       "    }\n",
       "\n",
       "    .dataframe thead th {\n",
       "        text-align: right;\n",
       "    }\n",
       "</style>\n",
       "<table border=\"1\" class=\"dataframe\">\n",
       "  <thead>\n",
       "    <tr style=\"text-align: right;\">\n",
       "      <th></th>\n",
       "      <th>lat</th>\n",
       "      <th>lon</th>\n",
       "      <th>time</th>\n",
       "      <th>nbnds</th>\n",
       "      <th>time_bnds</th>\n",
       "      <th>sst</th>\n",
       "    </tr>\n",
       "  </thead>\n",
       "  <tbody>\n",
       "    <tr>\n",
       "      <th>65297510</th>\n",
       "      <td>-88.0</td>\n",
       "      <td>-2.0</td>\n",
       "      <td>2023-06-01</td>\n",
       "      <td>0</td>\n",
       "      <td>9.969210e+36</td>\n",
       "      <td>NaN</td>\n",
       "    </tr>\n",
       "    <tr>\n",
       "      <th>65297512</th>\n",
       "      <td>-88.0</td>\n",
       "      <td>-2.0</td>\n",
       "      <td>2023-07-01</td>\n",
       "      <td>0</td>\n",
       "      <td>9.969210e+36</td>\n",
       "      <td>NaN</td>\n",
       "    </tr>\n",
       "    <tr>\n",
       "      <th>65297514</th>\n",
       "      <td>-88.0</td>\n",
       "      <td>-2.0</td>\n",
       "      <td>2023-08-01</td>\n",
       "      <td>0</td>\n",
       "      <td>9.969210e+36</td>\n",
       "      <td>NaN</td>\n",
       "    </tr>\n",
       "    <tr>\n",
       "      <th>65297516</th>\n",
       "      <td>-88.0</td>\n",
       "      <td>-2.0</td>\n",
       "      <td>2023-09-01</td>\n",
       "      <td>0</td>\n",
       "      <td>9.969210e+36</td>\n",
       "      <td>NaN</td>\n",
       "    </tr>\n",
       "    <tr>\n",
       "      <th>65297518</th>\n",
       "      <td>-88.0</td>\n",
       "      <td>-2.0</td>\n",
       "      <td>2023-10-01</td>\n",
       "      <td>0</td>\n",
       "      <td>9.969210e+36</td>\n",
       "      <td>NaN</td>\n",
       "    </tr>\n",
       "  </tbody>\n",
       "</table>\n",
       "</div>"
      ],
      "text/plain": [
       "           lat  lon       time  nbnds     time_bnds  sst\n",
       "65297510 -88.0 -2.0 2023-06-01      0  9.969210e+36  NaN\n",
       "65297512 -88.0 -2.0 2023-07-01      0  9.969210e+36  NaN\n",
       "65297514 -88.0 -2.0 2023-08-01      0  9.969210e+36  NaN\n",
       "65297516 -88.0 -2.0 2023-09-01      0  9.969210e+36  NaN\n",
       "65297518 -88.0 -2.0 2023-10-01      0  9.969210e+36  NaN"
      ]
     },
     "execution_count": 9,
     "metadata": {},
     "output_type": "execute_result"
    }
   ],
   "source": [
    "df.tail()"
   ]
  },
  {
   "cell_type": "code",
   "execution_count": 10,
   "metadata": {},
   "outputs": [],
   "source": [
    "dataset = SSTHelper.get_sst_series(df = df, lat=20, lon=-132)"
   ]
  },
  {
   "cell_type": "code",
   "execution_count": 11,
   "metadata": {},
   "outputs": [],
   "source": [
    "dataset = dataset.reset_index().drop(['nbnds', 'time_bnds'], axis=1).set_index('time')"
   ]
  },
  {
   "cell_type": "code",
   "execution_count": 12,
   "metadata": {},
   "outputs": [
    {
     "data": {
      "text/html": [
       "<div>\n",
       "<style scoped>\n",
       "    .dataframe tbody tr th:only-of-type {\n",
       "        vertical-align: middle;\n",
       "    }\n",
       "\n",
       "    .dataframe tbody tr th {\n",
       "        vertical-align: top;\n",
       "    }\n",
       "\n",
       "    .dataframe thead th {\n",
       "        text-align: right;\n",
       "    }\n",
       "</style>\n",
       "<table border=\"1\" class=\"dataframe\">\n",
       "  <thead>\n",
       "    <tr style=\"text-align: right;\">\n",
       "      <th></th>\n",
       "      <th>sst</th>\n",
       "    </tr>\n",
       "    <tr>\n",
       "      <th>time</th>\n",
       "      <th></th>\n",
       "    </tr>\n",
       "  </thead>\n",
       "  <tbody>\n",
       "    <tr>\n",
       "      <th>1854-01-01</th>\n",
       "      <td>22.197483</td>\n",
       "    </tr>\n",
       "    <tr>\n",
       "      <th>1854-02-01</th>\n",
       "      <td>21.905436</td>\n",
       "    </tr>\n",
       "    <tr>\n",
       "      <th>1854-03-01</th>\n",
       "      <td>22.155600</td>\n",
       "    </tr>\n",
       "    <tr>\n",
       "      <th>1854-04-01</th>\n",
       "      <td>22.680405</td>\n",
       "    </tr>\n",
       "    <tr>\n",
       "      <th>1854-05-01</th>\n",
       "      <td>22.942524</td>\n",
       "    </tr>\n",
       "    <tr>\n",
       "      <th>...</th>\n",
       "      <td>...</td>\n",
       "    </tr>\n",
       "    <tr>\n",
       "      <th>2023-06-01</th>\n",
       "      <td>22.585289</td>\n",
       "    </tr>\n",
       "    <tr>\n",
       "      <th>2023-07-01</th>\n",
       "      <td>22.950830</td>\n",
       "    </tr>\n",
       "    <tr>\n",
       "      <th>2023-08-01</th>\n",
       "      <td>24.066349</td>\n",
       "    </tr>\n",
       "    <tr>\n",
       "      <th>2023-09-01</th>\n",
       "      <td>24.897844</td>\n",
       "    </tr>\n",
       "    <tr>\n",
       "      <th>2023-10-01</th>\n",
       "      <td>25.030186</td>\n",
       "    </tr>\n",
       "  </tbody>\n",
       "</table>\n",
       "<p>2038 rows × 1 columns</p>\n",
       "</div>"
      ],
      "text/plain": [
       "                  sst\n",
       "time                 \n",
       "1854-01-01  22.197483\n",
       "1854-02-01  21.905436\n",
       "1854-03-01  22.155600\n",
       "1854-04-01  22.680405\n",
       "1854-05-01  22.942524\n",
       "...               ...\n",
       "2023-06-01  22.585289\n",
       "2023-07-01  22.950830\n",
       "2023-08-01  24.066349\n",
       "2023-09-01  24.897844\n",
       "2023-10-01  25.030186\n",
       "\n",
       "[2038 rows x 1 columns]"
      ]
     },
     "execution_count": 12,
     "metadata": {},
     "output_type": "execute_result"
    }
   ],
   "source": [
    "dataset"
   ]
  },
  {
   "cell_type": "code",
   "execution_count": 13,
   "metadata": {},
   "outputs": [
    {
     "name": "stderr",
     "output_type": "stream",
     "text": [
      "C:\\Users\\mathe\\AppData\\Local\\Temp\\ipykernel_3440\\850041795.py:3: FutureWarning: DataFrame.fillna with 'method' is deprecated and will raise in a future version. Use obj.ffill() or obj.bfill() instead.\n",
      "  dataset = dataset.fillna(method='ffill')\n"
     ]
    }
   ],
   "source": [
    "from sklearn.preprocessing import MinMaxScaler\n",
    "\n",
    "dataset = dataset.fillna(method='ffill')\n",
    "scaler = MinMaxScaler(feature_range=(-1, 1))\n",
    "dataset['sst'] = scaler.fit_transform(dataset['sst'].values.reshape(-1, 1))"
   ]
  },
  {
   "cell_type": "code",
   "execution_count": 14,
   "metadata": {},
   "outputs": [
    {
     "data": {
      "text/html": [
       "<div>\n",
       "<style scoped>\n",
       "    .dataframe tbody tr th:only-of-type {\n",
       "        vertical-align: middle;\n",
       "    }\n",
       "\n",
       "    .dataframe tbody tr th {\n",
       "        vertical-align: top;\n",
       "    }\n",
       "\n",
       "    .dataframe thead th {\n",
       "        text-align: right;\n",
       "    }\n",
       "</style>\n",
       "<table border=\"1\" class=\"dataframe\">\n",
       "  <thead>\n",
       "    <tr style=\"text-align: right;\">\n",
       "      <th></th>\n",
       "      <th>sst</th>\n",
       "    </tr>\n",
       "    <tr>\n",
       "      <th>time</th>\n",
       "      <th></th>\n",
       "    </tr>\n",
       "  </thead>\n",
       "  <tbody>\n",
       "    <tr>\n",
       "      <th>1854-01-01</th>\n",
       "      <td>-0.090954</td>\n",
       "    </tr>\n",
       "    <tr>\n",
       "      <th>1854-02-01</th>\n",
       "      <td>-0.158193</td>\n",
       "    </tr>\n",
       "    <tr>\n",
       "      <th>1854-03-01</th>\n",
       "      <td>-0.100597</td>\n",
       "    </tr>\n",
       "    <tr>\n",
       "      <th>1854-04-01</th>\n",
       "      <td>0.020230</td>\n",
       "    </tr>\n",
       "    <tr>\n",
       "      <th>1854-05-01</th>\n",
       "      <td>0.080579</td>\n",
       "    </tr>\n",
       "    <tr>\n",
       "      <th>...</th>\n",
       "      <td>...</td>\n",
       "    </tr>\n",
       "    <tr>\n",
       "      <th>2023-06-01</th>\n",
       "      <td>-0.001668</td>\n",
       "    </tr>\n",
       "    <tr>\n",
       "      <th>2023-07-01</th>\n",
       "      <td>0.082491</td>\n",
       "    </tr>\n",
       "    <tr>\n",
       "      <th>2023-08-01</th>\n",
       "      <td>0.339321</td>\n",
       "    </tr>\n",
       "    <tr>\n",
       "      <th>2023-09-01</th>\n",
       "      <td>0.530759</td>\n",
       "    </tr>\n",
       "    <tr>\n",
       "      <th>2023-10-01</th>\n",
       "      <td>0.561228</td>\n",
       "    </tr>\n",
       "  </tbody>\n",
       "</table>\n",
       "<p>2038 rows × 1 columns</p>\n",
       "</div>"
      ],
      "text/plain": [
       "                 sst\n",
       "time                \n",
       "1854-01-01 -0.090954\n",
       "1854-02-01 -0.158193\n",
       "1854-03-01 -0.100597\n",
       "1854-04-01  0.020230\n",
       "1854-05-01  0.080579\n",
       "...              ...\n",
       "2023-06-01 -0.001668\n",
       "2023-07-01  0.082491\n",
       "2023-08-01  0.339321\n",
       "2023-09-01  0.530759\n",
       "2023-10-01  0.561228\n",
       "\n",
       "[2038 rows x 1 columns]"
      ]
     },
     "execution_count": 14,
     "metadata": {},
     "output_type": "execute_result"
    }
   ],
   "source": [
    "dataset"
   ]
  },
  {
   "cell_type": "code",
   "execution_count": 15,
   "metadata": {},
   "outputs": [],
   "source": [
    "def create_split_data(ts, lookback, test_start):\n",
    "    data_raw = ts.to_numpy() # convercao da série para numpy\n",
    "    data = []\n",
    "    # laço para criar todas as combinacoes possiveis de comprimento igual a 'lookback'\n",
    "    for index in range(len(data_raw) - lookback):\n",
    "        # cada observaca 't' ira conter o pontos anteriores de 'lookbak'\n",
    "        data.append(data_raw[index: index + lookback])\n",
    "\n",
    "    data = np.array(data)\n",
    "\n",
    "    # vetores para redes recorrentes possuem tres dimensoes:\n",
    "    # - numero de amostras (para treino e teste)\n",
    "    # - numero de passos no tempo (deinido pelo parametro 'lookback')\n",
    "    # - numero de variaveis (1 para o caso de serie univariada)\n",
    "\n",
    "    # o x e o y irao ter um deslocamento entre si de forma que cada ponto de\n",
    "    # 0 ate t-1 sera utilizado para prever o ponto t\n",
    "    x_train = data[:test_start, :-1, :]\n",
    "    y_train = data[:test_start, -1, :]\n",
    "\n",
    "    x_test = data[test_start:, :-1, :]\n",
    "    y_test = data[test_start:, -1, :]\n",
    "\n",
    "    # conversao para tensores pytorch\n",
    "    x_train = torch.from_numpy(x_train).type(torch.Tensor)\n",
    "    x_test = torch.from_numpy(x_test).type(torch.Tensor)\n",
    "    y_train = torch.from_numpy(y_train).type(torch.Tensor)\n",
    "    y_test = torch.from_numpy(y_test).type(torch.Tensor)\n",
    "\n",
    "    return [x_train, y_train, x_test, y_test]"
   ]
  },
  {
   "cell_type": "code",
   "execution_count": 16,
   "metadata": {},
   "outputs": [],
   "source": [
    "class LSTM_base(nn.Module):\n",
    "    def __init__(self, input_dim, hidden_size, num_layers, output_dim):\n",
    "        super(LSTM_base, self).__init__()\n",
    "\n",
    "        self.hidden_size = hidden_size\n",
    "        self.num_layers = num_layers\n",
    "\n",
    "        self.lstm = nn.LSTM(input_size=input_dim, hidden_size=hidden_size, num_layers=num_layers, batch_first=True)\n",
    "\n",
    "        self.fc = nn.Linear(in_features=hidden_size, out_features=output_dim)\n",
    "\n",
    "    def forward(self, x):\n",
    "        h0 = torch.zeros(self.num_layers, x.size(0), self.hidden_size).requires_grad_()\n",
    "        c0 = torch.zeros(self.num_layers, x.size(0), self.hidden_size).requires_grad_()\n",
    "\n",
    "        out, (hn, cn) = self.lstm(x, (h0.detach(), c0.detach()))\n",
    "\n",
    "        out = self.fc(out[:, -1, :])\n",
    "\n",
    "        return out"
   ]
  },
  {
   "cell_type": "code",
   "execution_count": 17,
   "metadata": {},
   "outputs": [],
   "source": [
    "def training_and_evaluate(model, epochs, loss_function, optimizer, X_train, y_train, X_test, verbose=True):\n",
    "    # A variavel history_train e utilizada para armazenar a perda em cada epoca\n",
    "    history_train = np.zeros(epochs)\n",
    "\n",
    "    # colocar no modelo no tipo treino\n",
    "    model.train()\n",
    "\n",
    "    # o modelo sera treinado utilizando um batch, portanto, ha apenas um \n",
    "    # laço para iterar as epocas no procedimento de teste \n",
    "    for epoch in range(epochs):\n",
    "\n",
    "        # forward pass\n",
    "        y_pred = model.forward(X_train)\n",
    "\n",
    "        # funcao perda\n",
    "        loss = loss_function(y_pred, y_train)\n",
    "\n",
    "        # o modo verboso imprime a informacao de treinamento\n",
    "        if verbose:\n",
    "            print(f\"Epoch [{epoch + 1}|{epochs}] Loss: {loss.item()}\")\n",
    "\n",
    "        # inclui a perda da epoca atual no history_train\n",
    "        history_train[epoch] = loss.item()\n",
    "\n",
    "        # limpa o gradiente\n",
    "        optimizer.zero_grad()\n",
    "\n",
    "        # atualiza os parametros\n",
    "        loss.backward()\n",
    "        optimizer.step()\n",
    "\n",
    "    # coloca o modelo em modo de validacao\n",
    "    model.eval()\n",
    "\n",
    "    # desativa o caluclo do gradiente. isso e util para procedimentos inferenciais.\n",
    "    # doc.: (https://pytorch.org/docs/stable/generated/torch.no_grad.html)\n",
    "    with torch.no_grad():\n",
    "        # realiza predicoes para os conjuntos de treino e de teste\n",
    "        y_pred_train = model.forward(X_train)\n",
    "        y_pred_test = model.forward(X_test)\n",
    "\n",
    "    return history_train, y_pred_train, y_pred_test"
   ]
  },
  {
   "cell_type": "code",
   "execution_count": 38,
   "metadata": {},
   "outputs": [],
   "source": [
    "X_train, y_train, X_test, y_test = create_split_data(ts=dataset, lookback=12, test_start=dataset.shape[0]-36)"
   ]
  },
  {
   "cell_type": "code",
   "execution_count": 39,
   "metadata": {},
   "outputs": [],
   "source": [
    "model = LSTM_base(input_dim=1, hidden_size=64, num_layers=1, output_dim=1)"
   ]
  },
  {
   "cell_type": "code",
   "execution_count": 40,
   "metadata": {},
   "outputs": [],
   "source": [
    "# funcao perda: MSE Loss\n",
    "loss_function = nn.MSELoss()\n",
    "\n",
    "# otimizadorAdam com lr=.005\n",
    "optimizer = torch.optim.Adam(model.parameters(), lr=.002)"
   ]
  },
  {
   "cell_type": "code",
   "execution_count": 41,
   "metadata": {},
   "outputs": [
    {
     "name": "stdout",
     "output_type": "stream",
     "text": [
      "Epoch [1|130] Loss: 0.07677009701728821\n",
      "Epoch [2|130] Loss: 0.07594341784715652\n",
      "Epoch [3|130] Loss: 0.07500866800546646\n",
      "Epoch [4|130] Loss: 0.07416583597660065\n",
      "Epoch [5|130] Loss: 0.07331955432891846\n",
      "Epoch [6|130] Loss: 0.07243140786886215\n",
      "Epoch [7|130] Loss: 0.07155752182006836\n",
      "Epoch [8|130] Loss: 0.07068930566310883\n",
      "Epoch [9|130] Loss: 0.06977908313274384\n",
      "Epoch [10|130] Loss: 0.06883154064416885\n",
      "Epoch [11|130] Loss: 0.06786549836397171\n",
      "Epoch [12|130] Loss: 0.0668540969491005\n",
      "Epoch [13|130] Loss: 0.06576231867074966\n",
      "Epoch [14|130] Loss: 0.06459375470876694\n",
      "Epoch [15|130] Loss: 0.06334035098552704\n",
      "Epoch [16|130] Loss: 0.06195637211203575\n",
      "Epoch [17|130] Loss: 0.060415178537368774\n",
      "Epoch [18|130] Loss: 0.05870378017425537\n",
      "Epoch [19|130] Loss: 0.056764423847198486\n",
      "Epoch [20|130] Loss: 0.05454543977975845\n",
      "Epoch [21|130] Loss: 0.052022743970155716\n",
      "Epoch [22|130] Loss: 0.04913371801376343\n",
      "Epoch [23|130] Loss: 0.04586352780461311\n",
      "Epoch [24|130] Loss: 0.04218693822622299\n",
      "Epoch [25|130] Loss: 0.03813116252422333\n",
      "Epoch [26|130] Loss: 0.033804457634687424\n",
      "Epoch [27|130] Loss: 0.02954884245991707\n",
      "Epoch [28|130] Loss: 0.026447318494319916\n",
      "Epoch [29|130] Loss: 0.027373341843485832\n",
      "Epoch [30|130] Loss: 0.03266610577702522\n",
      "Epoch [31|130] Loss: 0.028618883341550827\n",
      "Epoch [32|130] Loss: 0.029938308522105217\n",
      "Epoch [33|130] Loss: 0.024981653317809105\n",
      "Epoch [34|130] Loss: 0.024300184100866318\n",
      "Epoch [35|130] Loss: 0.023786384612321854\n",
      "Epoch [36|130] Loss: 0.02173214592039585\n",
      "Epoch [37|130] Loss: 0.022963996976614\n",
      "Epoch [38|130] Loss: 0.02262018993496895\n",
      "Epoch [39|130] Loss: 0.021656572818756104\n",
      "Epoch [40|130] Loss: 0.022344455122947693\n",
      "Epoch [41|130] Loss: 0.021738026291131973\n",
      "Epoch [42|130] Loss: 0.02073322981595993\n",
      "Epoch [43|130] Loss: 0.020824652165174484\n",
      "Epoch [44|130] Loss: 0.02041429653763771\n",
      "Epoch [45|130] Loss: 0.01949889212846756\n",
      "Epoch [46|130] Loss: 0.019348125904798508\n",
      "Epoch [47|130] Loss: 0.019397765398025513\n",
      "Epoch [48|130] Loss: 0.01896734908223152\n",
      "Epoch [49|130] Loss: 0.018766257911920547\n",
      "Epoch [50|130] Loss: 0.018980372697114944\n",
      "Epoch [51|130] Loss: 0.01888429932296276\n",
      "Epoch [52|130] Loss: 0.018538538366556168\n",
      "Epoch [53|130] Loss: 0.018458690494298935\n",
      "Epoch [54|130] Loss: 0.01836426556110382\n",
      "Epoch [55|130] Loss: 0.017991483211517334\n",
      "Epoch [56|130] Loss: 0.0177755206823349\n",
      "Epoch [57|130] Loss: 0.017767367884516716\n",
      "Epoch [58|130] Loss: 0.017588036134839058\n",
      "Epoch [59|130] Loss: 0.01742739975452423\n",
      "Epoch [60|130] Loss: 0.017454329878091812\n",
      "Epoch [61|130] Loss: 0.01734280213713646\n",
      "Epoch [62|130] Loss: 0.0171568151563406\n",
      "Epoch [63|130] Loss: 0.01710951142013073\n",
      "Epoch [64|130] Loss: 0.016960320994257927\n",
      "Epoch [65|130] Loss: 0.016749873757362366\n",
      "Epoch [66|130] Loss: 0.01666959375143051\n",
      "Epoch [67|130] Loss: 0.016514664515852928\n",
      "Epoch [68|130] Loss: 0.016354156658053398\n",
      "Epoch [69|130] Loss: 0.016299590468406677\n",
      "Epoch [70|130] Loss: 0.016152311116456985\n",
      "Epoch [71|130] Loss: 0.01604611985385418\n",
      "Epoch [72|130] Loss: 0.015952659770846367\n",
      "Epoch [73|130] Loss: 0.01577972061932087\n",
      "Epoch [74|130] Loss: 0.01568269170820713\n",
      "Epoch [75|130] Loss: 0.015519000589847565\n",
      "Epoch [76|130] Loss: 0.015402699820697308\n",
      "Epoch [77|130] Loss: 0.015280725434422493\n",
      "Epoch [78|130] Loss: 0.015149630606174469\n",
      "Epoch [79|130] Loss: 0.015045728534460068\n",
      "Epoch [80|130] Loss: 0.014900446869432926\n",
      "Epoch [81|130] Loss: 0.014788774773478508\n",
      "Epoch [82|130] Loss: 0.01463188137859106\n",
      "Epoch [83|130] Loss: 0.014513516798615456\n",
      "Epoch [84|130] Loss: 0.0143637266010046\n",
      "Epoch [85|130] Loss: 0.014247968792915344\n",
      "Epoch [86|130] Loss: 0.014111652038991451\n",
      "Epoch [87|130] Loss: 0.013988979160785675\n",
      "Epoch [88|130] Loss: 0.013863389380276203\n",
      "Epoch [89|130] Loss: 0.013726256787776947\n",
      "Epoch [90|130] Loss: 0.013612494803965092\n",
      "Epoch [91|130] Loss: 0.013477947562932968\n",
      "Epoch [92|130] Loss: 0.013364230282604694\n",
      "Epoch [93|130] Loss: 0.013251371681690216\n",
      "Epoch [94|130] Loss: 0.013125724159181118\n",
      "Epoch [95|130] Loss: 0.013018302619457245\n",
      "Epoch [96|130] Loss: 0.012911830097436905\n",
      "Epoch [97|130] Loss: 0.012796735391020775\n",
      "Epoch [98|130] Loss: 0.012692860327661037\n",
      "Epoch [99|130] Loss: 0.012597219087183475\n",
      "Epoch [100|130] Loss: 0.012496914714574814\n",
      "Epoch [101|130] Loss: 0.01239706389605999\n",
      "Epoch [102|130] Loss: 0.012307101860642433\n",
      "Epoch [103|130] Loss: 0.012224824167788029\n",
      "Epoch [104|130] Loss: 0.01214357279241085\n",
      "Epoch [105|130] Loss: 0.012061411514878273\n",
      "Epoch [106|130] Loss: 0.011980470269918442\n",
      "Epoch [107|130] Loss: 0.011902431957423687\n",
      "Epoch [108|130] Loss: 0.011826642788946629\n",
      "Epoch [109|130] Loss: 0.01175236888229847\n",
      "Epoch [110|130] Loss: 0.011679674498736858\n",
      "Epoch [111|130] Loss: 0.011608990840613842\n",
      "Epoch [112|130] Loss: 0.011539407074451447\n",
      "Epoch [113|130] Loss: 0.011469881981611252\n",
      "Epoch [114|130] Loss: 0.011400248855352402\n",
      "Epoch [115|130] Loss: 0.011331068351864815\n",
      "Epoch [116|130] Loss: 0.011262419633567333\n",
      "Epoch [117|130] Loss: 0.011194194667041302\n",
      "Epoch [118|130] Loss: 0.011126888915896416\n",
      "Epoch [119|130] Loss: 0.011061208322644234\n",
      "Epoch [120|130] Loss: 0.010997074656188488\n",
      "Epoch [121|130] Loss: 0.01093398965895176\n",
      "Epoch [122|130] Loss: 0.010871874168515205\n",
      "Epoch [123|130] Loss: 0.010812648572027683\n",
      "Epoch [124|130] Loss: 0.01076772715896368\n",
      "Epoch [125|130] Loss: 0.01084369421005249\n",
      "Epoch [126|130] Loss: 0.01188585627824068\n",
      "Epoch [127|130] Loss: 0.016125084832310677\n",
      "Epoch [128|130] Loss: 0.014831790700554848\n",
      "Epoch [129|130] Loss: 0.010756666772067547\n",
      "Epoch [130|130] Loss: 0.014253204688429832\n"
     ]
    }
   ],
   "source": [
    "history_train, y_pred_train, y_pred_test = training_and_evaluate(model=model,\n",
    "                                                                 epochs=100,\n",
    "                                                                 loss_function=loss_function,\n",
    "                                                                 optimizer=optimizer,\n",
    "                                                                 X_train=X_train,\n",
    "                                                                 y_train=y_train,\n",
    "                                                                 X_test=X_test,\n",
    "                                                                 verbose=True)"
   ]
  },
  {
   "cell_type": "code",
   "execution_count": 42,
   "metadata": {},
   "outputs": [],
   "source": [
    "def model_performance(y_train, y_hat_train, y_test, y_hat_test):\n",
    "    \n",
    "    # aplica a transformacao inversa nos dados normalizados\n",
    "    y_train_rev = scaler.inverse_transform(y_train.detach().numpy()).tolist()\n",
    "    y_hat_train_rev = scaler.inverse_transform(y_hat_train.detach().numpy()).tolist()\n",
    "    y_test_rev = scaler.inverse_transform(y_test.detach().numpy()).tolist()\n",
    "    y_hat_test_rev = scaler.inverse_transform(y_hat_test.detach().numpy()).tolist()\n",
    "\n",
    "    # calcula e obtem o RMSE\n",
    "    train_RMSE = math.sqrt(mean_squared_error(y_train_rev, y_hat_train_rev))\n",
    "    test_RMSE = math.sqrt(mean_squared_error(y_test_rev, y_hat_test_rev))\n",
    "\n",
    "    print('Train score: {result} RMSE'.format(result=train_RMSE))\n",
    "    print('Test score: {result} RMSE'.format(result=test_RMSE))\n",
    "\n",
    "    # Imprime as previsoes para o conjunto de teste e os valores reais\n",
    "    fig, ax = plt.subplots(figsize=(15, 2.5))\n",
    "    sns.set(style=\"whitegrid\")\n",
    "\n",
    "    df_lines = pd.DataFrame({'Actual SST': [value for sublist in y_test_rev for value in sublist],\n",
    "                             'Predicted SST': [value for sublist in y_hat_test_rev for value in sublist]})\n",
    "    sns.lineplot(data=df_lines,\n",
    "                 palette={'Actual SST': 'indigo', 'Predicted SST': 'deeppink'},\n",
    "                 linewidth=1.5)\n",
    "\n",
    "    plt.title('SST preditcion', fontsize=16)\n",
    "    plt.xlabel('Time indicator (test set)', fontsize=12)\n",
    "    plt.ylabel('SST', fontsize=12)\n",
    "    plt.show()"
   ]
  },
  {
   "cell_type": "code",
   "execution_count": 44,
   "metadata": {},
   "outputs": [
    {
     "name": "stdout",
     "output_type": "stream",
     "text": [
      "Train score: 0.44685858761086056 RMSE\n",
      "Test score: 0.2817021125554936 RMSE\n"
     ]
    },
    {
     "data": {
      "image/png": "[encoded data removed]",
      "text/plain": [
       "<Figure size 1500x250 with 1 Axes>"
      ]
     },
     "metadata": {},
     "output_type": "display_data"
    }
   ],
   "source": [
    "model_performance(y_train, y_pred_train, y_test, y_pred_test)"
   ]
  },
  {
   "cell_type": "code",
   "execution_count": 45,
   "metadata": {},
   "outputs": [
    {
     "data": {
      "image/png": "[encoded data removed]",
      "text/plain": [
       "<Figure size 1000x400 with 1 Axes>"
      ]
     },
     "metadata": {},
     "output_type": "display_data"
    }
   ],
   "source": [
    "figure, axes = plt.subplots(figsize=(10, 4))\n",
    "plt.plot(history_train, color = 'indigo')\n",
    "plt.title('Loss by trainning epoch', fontsize=16)\n",
    "plt.xlabel('Epoch', fontsize=12)\n",
    "plt.ylabel('Loss value', fontsize=12)\n",
    "plt.show()"
   ]
  },
  {
   "cell_type": "code",
   "execution_count": 46,
   "metadata": {},
   "outputs": [],
   "source": [
    "current_view = X_test[0:1]\n",
    "y_pred_blind = []\n",
    "\n",
    "for i in range(X_test.shape[0]):\n",
    "    with torch.no_grad():\n",
    "        y_pred = model.forward(current_view)\n",
    "        current_view = torch.cat([current_view.reshape(-1), y_pred.reshape(-1)])[1:].reshape(1,11,1)\n",
    "        y_pred_blind.append(y_pred)"
   ]
  },
  {
   "cell_type": "code",
   "execution_count": 47,
   "metadata": {},
   "outputs": [
    {
     "name": "stdout",
     "output_type": "stream",
     "text": [
      "Train score: 0.44685858761086056 RMSE\n",
      "Test score: 0.2882121459005264 RMSE\n"
     ]
    },
    {
     "data": {
      "image/png": "[encoded data removed]",
      "text/plain": [
       "<Figure size 1500x250 with 1 Axes>"
      ]
     },
     "metadata": {},
     "output_type": "display_data"
    }
   ],
   "source": [
    "model_performance(y_train, y_pred_train, y_test, torch.cat(y_pred_blind))"
   ]
  },
  {
   "cell_type": "code",
   "execution_count": 48,
   "metadata": {},
   "outputs": [
    {
     "data": {
      "text/plain": [
       "1.6944332"
      ]
     },
     "execution_count": 48,
     "metadata": {},
     "output_type": "execute_result"
    }
   ],
   "source": [
    "SSTHelper.mape(y_train, y_pred_train)"
   ]
  },
  {
   "cell_type": "code",
   "execution_count": 49,
   "metadata": {},
   "outputs": [
    {
     "data": {
      "text/plain": [
       "0.80295205"
      ]
     },
     "execution_count": 49,
     "metadata": {},
     "output_type": "execute_result"
    }
   ],
   "source": [
    "SSTHelper.mape(y_test, torch.cat(y_pred_blind))"
   ]
  }
 ],
 "metadata": {
  "kernelspec": {
   "display_name": "venv",
   "language": "python",
   "name": "python3"
  },
  "language_info": {
   "codemirror_mode": {
    "name": "ipython",
    "version": 3
   },
   "file_extension": ".py",
   "mimetype": "text/x-python",
   "name": "python",
   "nbconvert_exporter": "python",
   "pygments_lexer": "ipython3",
   "version": "3.11.3"
  }
 },
 "nbformat": 4,
 "nbformat_minor": 2
}
