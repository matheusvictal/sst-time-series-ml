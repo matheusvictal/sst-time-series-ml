{
 "cells": [
  {
   "cell_type": "markdown",
   "metadata": {},
   "source": [
    "## MultiLayer Perceptron"
   ]
  },
  {
   "cell_type": "code",
   "execution_count": null,
   "metadata": {},
   "outputs": [],
   "source": [
    "from sklearn.preprocessing import MinMaxScaler\n",
    "import torch\n",
    "import numpy as np\n",
    "import torch.nn as nn\n",
    "import math\n",
    "from sklearn.metrics import mean_squared_error\n",
    "import numpy as np\n",
    "import seaborn as sns\n",
    "import netCDF4 as nc\n",
    "import xarray as xr\n",
    "from mpl_toolkits.basemap import Basemap\n",
    "from mpl_toolkits.basemap import shiftgrid\n",
    "import matplotlib.pyplot as plt\n",
    "import pandas as pd"
   ]
  },
  {
   "cell_type": "code",
   "execution_count": null,
   "metadata": {},
   "outputs": [],
   "source": []
  },
  {
   "cell_type": "code",
   "execution_count": null,
   "metadata": {},
   "outputs": [],
   "source": []
  },
  {
   "cell_type": "code",
   "execution_count": null,
   "metadata": {},
   "outputs": [],
   "source": [
    "class Network(nn.Module):\n",
    "\n",
    "    def __init__(self):\n",
    "        # Calls the __init__ dunder method (constructor) from the superclass nn.Module\n",
    "        super(Network, self).__init__()\n",
    "        # Creates the network project\n",
    "        # The problem of interest is an image classification problem (handwritten numbers from 0 to 9)\n",
    "        # 28x28 pixels images = 724 values\n",
    "        # Network output = 10 classes\n",
    "        self.fc1 = nn.Linear(784, 32) # fully conected layer (first dense layer)\n",
    "        self.fc2 = nn.Linear(32, 10) # fully conected layer (second dense layer)\n",
    "\n",
    "    def forward(self, X):\n",
    "        # X is an image 28x28 -> does not work for the conneccted layer, which expects a 1d vector\n",
    "        # Receives minibatches\n",
    "        X = torch.flatten(X, 1) # flatten the dimentions with the exception of the batches one\n",
    "        X = F.relu(self.fc1(X)) # connected linear layer + relu\n",
    "        X = self.fc2(X) # connected linear layer\n",
    "        return X"
   ]
  },
  {
   "cell_type": "code",
   "execution_count": null,
   "metadata": {},
   "outputs": [],
   "source": []
  }
 ],
 "metadata": {
  "kernelspec": {
   "display_name": "venv",
   "language": "python",
   "name": "python3"
  },
  "language_info": {
   "name": "python",
   "version": "3.11.3"
  }
 },
 "nbformat": 4,
 "nbformat_minor": 2
}
